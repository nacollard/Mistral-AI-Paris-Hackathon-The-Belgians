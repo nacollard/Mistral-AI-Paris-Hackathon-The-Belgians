{
   "cells": [
      {
         "cell_type": "code",
         "execution_count": 31,
         "metadata": {},
         "outputs": [
            {
               "data": {
                  "text/plain": [
                     "True"
                  ]
               },
               "execution_count": 31,
               "metadata": {},
               "output_type": "execute_result"
            }
         ],
         "source": [
            "from mistralai.client import MistralClient\n",
            "from mistralai.models.chat_completion import ChatMessage\n",
            "import os\n",
            "from dotenv import load_dotenv\n",
            "\n",
            "from docx import Document\n",
            "\n",
            "load_dotenv()  # take environment variables from .env."
         ]
      },
      {
         "cell_type": "code",
         "execution_count": 32,
         "metadata": {},
         "outputs": [],
         "source": [
            "def xml_retriever(xml_response, tag):\n",
            "    return xml_response.split('<'+tag+'>')[1].split('</'+tag+'>')[0]"
         ]
      },
      {
         "cell_type": "code",
         "execution_count": 33,
         "metadata": {},
         "outputs": [],
         "source": [
            "# Agent for News Analysis\n",
            "# Returns:\n",
            "# 1. The significance level of the news (High, Medium, Low)\n",
            "# 2. The main topic of the article\n",
            "def news_analyst_agent(article):\n",
            "    # TODO : Change the prompt\n",
            "    business_model = 'Data/Internal/Business Model de StIT.docx'\n",
            "    long_term_strategy = 'Data/Internal/Plan de développement stratégique sur 8 ans pour StIT.docx'\n",
            "    products_and_services = 'Data/Internal/Produits et services de StIT.docx'\n",
            "    company_docs = [business_model, long_term_strategy, products_and_services]\n",
            "    company_knowledge = ''\n",
            "    for doc in company_docs:\n",
            "        docx_document = Document(doc)\n",
            "        paragraphs_text = ' '.join([paragraph.text for paragraph in docx_document.paragraphs])\n",
            "        company_knowledge += paragraphs_text\n",
            "    prompt = \"\"\"\n",
            "                You are an experienced business analyst tasked with determining the priority level of news articles based on their relevance to your company, StIT.\n",
            "\n",
            "                Here is some crucial information about the company to consider during your analysis:\n",
            "                <company_knowledge>\"\"\"+company_knowledge +\"\"\"</company_knowledge>\n",
            "\n",
            "                Please thoroughly read and analyze the following news article:\n",
            "\n",
            "                <article>\"\"\"+article+\"\"\"</article>\n",
            "\n",
            "                In the <output> section, document your thoughts on the article's relevance to the company. Carefully consider how the main points and key details in the article relate to the provided company knowledge. Here are some guidelines on how to rank the priority level of the article:\n",
            "\n",
            "                * High priority: The article contains information that is highly relevant to the company's goals, operations, or industry, and has the potential to significantly impact the company in the near term. The article may discuss a major new development, a significant change in the regulatory or competitive landscape, or a major opportunity or threat for the company. The company's management and other stakeholders should be alerted to the article and its implications as soon as possible.\n",
            "                * Medium priority: The article contains information that is moderately relevant to the company's goals, operations, or industry, and has the potential to impact the company in the medium term. The article may discuss a new trend or development that is likely to affect the company's business, a change in the competitive landscape that is likely to have a moderate impact, or an opportunity or threat that is not yet fully formed. The company's management and other stakeholders should be aware of the article and its implications, and may want to monitor the situation or take some initial actions to address it.\n",
            "                * Low priority: The article contains information that is not highly relevant to the company's goals, operations, or industry, or is unlikely to have a significant impact on the company. The article may discuss a development that is not directly related to the company's business, a change in the competitive landscape that is unlikely to have a significant impact, or an opportunity or threat that is unlikely to materialize. The company's management and other stakeholders may want to be aware of the article, but it is not necessary to take any immediate actions to address it.\n",
            "\n",
            "                After completing your analysis, provide your final assessment in the <output> section, using the following format:\n",
            "\n",
            "                <output>\n",
            "                <priority_level>High OR Medium OR Low</priority_level>\n",
            "                <justification>A detailed explanation of your priority rating, including how the article's main points and key details relate to the company's goals, operations, or industry, and the potential implications and impact of the article on the company</justification>\n",
            "                <main_topic>A one-sentence summary highlighting the article's main topic<main_topic>\n",
            "                </output>\n",
            "\n",
            "                Remember, your goal is to help company management quickly identify and prioritize important news, so be sure to consider the key implications and potential impact of the article on the company in your priority rating and justification.\n",
            "            \"\"\"\n",
            "    api_key = \"M5aTzx5CYlozf6qywo77peiSahoeS6ja\"\n",
            "    model = \"mistral-large-latest\"\n",
            "\n",
            "    client = MistralClient(api_key=api_key)\n",
            "\n",
            "    messages = [\n",
            "        ChatMessage(role=\"system\", content=prompt),\n",
            "        ChatMessage(role=\"user\", content=\"Content of the article : \" + article)\n",
            "    ]\n",
            "    \n",
            "    chat_response = client.chat(\n",
            "        model=model,\n",
            "        messages=messages,\n",
            "    )\n",
            "    \n",
            "    xml_response = chat_response.choices[0].message.content\n",
            "    priority_level = xml_retriever(xml_response, 'priority_level')\n",
            "    justification = xml_retriever(xml_response, 'justification')\n",
            "    main_topic = xml_retriever(xml_response, 'main_topic')\n",
            "    \n",
            "    return priority_level, justification, main_topic\n"
         ]
      },
      {
         "cell_type": "code",
         "execution_count": 34,
         "metadata": {},
         "outputs": [],
         "source": [
            "# news_article1 = 'Data/External/News Articles/ New tax law in France aims to encourage and support the growth of startups and small businesses copy.docx'\n",
            "# news_article2 = 'Data/External/News Articles/Local bakery in Paris wins award for best croissant in the city copy.docx'\n",
            "# news_article3 = 'Data/External/News Articles/New survey finds that the majority of French people prefer to shop online rather than in-store copy.docx'\n",
            "# news_article4 = 'Data/External/News Articles/Global economic recession expected to impact the tech sector copy.docx'\n",
            "# news_article5 = 'Data/External/News Articles/Massive cyberattack exposes the vulnerabilities of businesses and organizations copy.docx'\n",
            "# news_articles = [news_article1, news_article2, news_article3, news_article4, news_article5]\n",
            "# for news_article in news_articles:\n",
            "#     docx_document = Document(news_article)\n",
            "#     paragraphs_text = ' '.join([paragraph.text for paragraph in docx_document.paragraphs])\n",
            "#     print(news_analyst_agent(paragraphs_text))"
         ]
      },
      {
         "cell_type": "code",
         "execution_count": 35,
         "metadata": {},
         "outputs": [],
         "source": [
            "def news_agent(article):\n",
            "    news_article1 = 'Data/External/News Articles/ New tax law in France aims to encourage and support the growth of startups and small businesses copy.docx'\n",
            "    \n",
            "    docx_document = Document(news_article1)\n",
            "    paragraphs_text = ' '.join([paragraph.text for paragraph in docx_document.paragraphs])\n",
            "    priority_level, justification, main_topic = news_analyst_agent(paragraphs_text)\n",
            "    \n",
            "    print(\"Priority Level: \", priority_level)\n",
            "    print(\"Justification: \", justification)\n",
            "    print(\"Main Topic: \", main_topic)\n",
            "        \n",
            "    dispatch_agent(main_topic)"
         ]
      },
      {
         "cell_type": "code",
         "execution_count": 36,
         "metadata": {},
         "outputs": [],
         "source": [
            "import json\n",
            "\n",
            "# Agent that tells the user responsible to the text given\n",
            "def dispatch_agent(text):\n",
            "    results = internal_retriever_agent(text)\n",
            "    \n",
            "    return None"
         ]
      },
      {
         "cell_type": "code",
         "execution_count": 37,
         "metadata": {},
         "outputs": [],
         "source": [
            "from OpenRAG.src.openrag.chunk_vectorization.chunk_vectorization import get_vectorizer\n",
            "from OpenRAG.src.openrag.vectordb.milvus_adapter import init_milvus_connection\n",
            "from pymilvus import Collection\n",
            "\n",
            "# Agent to retrieve internal information\n",
            "# Returns:\n",
            "# 1. Several contexts linked to the provided text\n",
            "def internal_retriever_agent(text):\n",
            "    vectorizer = get_vectorizer('mistral')\n",
            "    query_vector = vectorizer.vectorize(text)\n",
            "    \n",
            "    init_milvus_connection()\n",
            "    \n",
            "    collection_name = \"mistral_collection\"\n",
            "    collection = Collection(name=collection_name)\n",
            "    \n",
            "    n_neighbors = 10\n",
            "    results = collection.search([query_vector], \"vector\", param={\"metric_type\": \"L2\", \"params\":{}}, limit=n_neighbors, expr=\"source == 'HR'\")\n",
            "    \n",
            "    final_indices = []\n",
            "    for result in results[0]:\n",
            "        if result.id not in final_indices and len(final_indices) + 1 <= n_neighbors:\n",
            "            final_indices.append([result.id, result.distance])\n",
            "            prev_index = result.id - 1\n",
            "            if prev_index >= 0 and prev_index not in final_indices and len(final_indices) + 1 <= n_neighbors:\n",
            "                final_indices.append([prev_index, result.distance])\n",
            "            next_index = result.id + 1\n",
            "            if next_index not in final_indices and len(final_indices) + 1 <= n_neighbors:\n",
            "                final_indices.append([next_index, result.distance])\n",
            "\n",
            "    results = final_indices\n",
            "    \n",
            "    answer_chunks = []\n",
            "    for hit in results:\n",
            "        print(find_chunks(hit[0]))\n",
            "        answer_chunk = find_chunks(hit[0])\n",
            "        answer_chunks.append(answer_chunk['text'])\n",
            "    \n",
            "    return answer_chunks"
         ]
      },
      {
         "cell_type": "code",
         "execution_count": 38,
         "metadata": {},
         "outputs": [],
         "source": [
            "def find_chunks(id, path = \"Data/Internal/HR/\"):\n",
            "    \"\"\"\n",
            "    Find the chunk based on the given id.\n",
            "    \"\"\"\n",
            "    global_indexing = json.load(open(\"global_indexing.json\", \"r\"))\n",
            "    for key, value in global_indexing.items():\n",
            "        start_idx = value[\"start\"]\n",
            "        end_idx = value[\"end\"]\n",
            "        if start_idx <= id <= end_idx:\n",
            "            index_in_file = id - start_idx\n",
            "            data_dict_file = json.load(open(path + key + \"_chunks.json\", \"r\"))\n",
            "            data_dict_file[\"chunk_\" + str(index_in_file)][\"document\"] = key + \".docx\"\n",
            "            data_dict_file[\"chunk_\" + str(index_in_file)][\"fullpath\"] = path + key + \".docx\"\n",
            "            return data_dict_file[\"chunk_\" + str(index_in_file)]\n",
            "    return None"
         ]
      },
      {
         "cell_type": "code",
         "execution_count": 39,
         "metadata": {},
         "outputs": [],
         "source": [
            "# Function scanning the response from the LLM for a specific action call\n",
            "def scan_response(response):\n",
            "    # TODO : Implement the different cases for the different actions and run the corresponding agent\n",
            "    pass"
         ]
      },
      {
         "cell_type": "code",
         "execution_count": 40,
         "metadata": {},
         "outputs": [
            {
               "name": "stdout",
               "output_type": "stream",
               "text": [
                  "Priority Level:  Medium\n",
                  "Justification:  The article discusses a new tax law proposal in France that aims to support the growth of startups and small businesses through various tax incentives and benefits. As StIT is a technology company based in France, this new tax law could potentially impact its financial situation and growth strategy. The proposed reduction in corporate income tax rate, VAT rate, and exemption from social security contributions for hiring new employees could benefit StIT if it meets the eligibility criteria. However, as the law is yet to be approved and enacted by the French parliament, the company should monitor the situation and be prepared to take advantage of the potential benefits if the law is passed. Additionally, the article does not discuss any direct impact on the technology industry, so while it is relevant to StIT as a French company, it may not significantly impact its operations or industry.\n",
                  "Main Topic:  The French government has proposed a new tax law aimed at encouraging and supporting the growth of startups and small businesses through various tax incentives and benefits.\n",
                  "{'text': \"decision-making abilities. 3. Excellent interpersonal, communication, and negotiation skills in French and English. 4. 4. In-depth knowledge of the technology industry, trends, and market dynamics. 5. Experience in fundraising, mergers and acquisitions, and corporate governance. 6. Ability to inspire, motivate, and develop teams and individuals. Education: \\nMaster of Business Administration (MBA) \\nINSEAD, Fontainebleau, France \\nGraduated: June 2008 \\n \\nMaster of Science (MSc) in Finance \\nESCP Europe, Paris, France \\nGraduated: June 2003 \\n \\nWork Experience: \\nCFO \\nStIT, Paris, France \\nMarch 2015 - Present \\n \\n1. Led the company's ﬁnance and accounting strategy, vision, and execution, driving \\nbusiness growth and proﬁtability. Led the company's ﬁnance and accounting strategy, vision, and execution, driving \\nbusiness growth and proﬁtability.\", 'page': 1, 'sentence_num': 17, 'sentences_page': 26, 'document': 'CV JEAN MASSART.docx', 'fullpath': 'Data/Internal/HR/CV JEAN MASSART.docx'}\n",
                  "{'text': 'Jean Massart \\n123 Main Street, Paris, France \\n+33 123 456 789 \\njohndoe@email.com \\n \\nObjective: \\nHighly skilled and experienced ﬁnance executive with over 15 years of experience in the \\ntechnology industry. Proven track record of leading and managing ﬁnance teams, \\ndeveloping and implementing ﬁnancial strategies, and driving business growth and \\nproﬁtability. Seeking to leverage my ﬁnancial, strategic, and leadership skills to excel in \\na new CFO role at StIT. Skills: \\n \\n1. Expertise in ﬁnancial management, accounting, and reporting. 2. Strong strategic thinking, planning, and decision-making abilities. 3. Excellent interpersonal, communication, and negotiation skills in French and English. 4. 4.', 'page': 1, 'sentence_num': 10, 'sentences_page': 26, 'document': 'CV JEAN MASSART.docx', 'fullpath': 'Data/Internal/HR/CV JEAN MASSART.docx'}\n",
                  "{'text': \"proﬁtability. Led the company's ﬁnance and accounting strategy, vision, and execution, driving \\nbusiness growth and proﬁtability. 2. Built and managed a high-performing ﬁnance team, fostering a culture of excellence, \\ncollaboration, and learning. 3. Developed and implemented ﬁnancial policies, procedures, and controls, aligning \\nwith industry best practices and standards. 4. Managed and mitigated ﬁnancial risks, conducting regular risk assessments and \\nimplementing risk management plans. 5. Collaborated with the CEO and executive team to develop and execute the \\ncompany's strategic plan and vision.  Director of Finance \\nInnoTech Group, Paris, France \\nJune 2008 - February 2015 \\n \\n1. Led the ﬁnance and accounting strategy, vision, and execution for a multinational \\ntechnology company, driving business growth and proﬁtability. Led the ﬁnance and accounting strategy, vision, and execution for a multinational \\ntechnology company, driving business growth and proﬁtability.\", 'page': 2, 'sentence_num': 2, 'sentences_page': 12, 'document': 'CV JEAN MASSART.docx', 'fullpath': 'Data/Internal/HR/CV JEAN MASSART.docx'}\n",
                  "{'text': \"technology industry, trends, and market dynamics. In-depth knowledge of the technology industry, trends, and market dynamics. 5. Experience in fundraising, mergers and acquisitions, and corporate governance. 6. Ability to inspire, motivate, and develop teams and individuals. Education: \\nMaster of Business Administration (MBA) \\nINSEAD, Fontainebleau, France \\nGraduated: June 2008 \\n \\nMaster of Science (MSc) in Computer Science \\nÉcole Normale Supérieure, Paris, France \\nGraduated: June 2003 \\n \\nWork Experience: \\nCEO \\nStIT, Paris, France \\nMarch 2015 - Present \\n \\n1. Led the company's strategic direction, vision, and growth, resulting in a 5x increase in \\nrevenue and a successful Series C funding round. Led the company's strategic direction, vision, and growth, resulting in a 5x increase in \\nrevenue and a successful Series C funding round.\", 'page': 1, 'sentence_num': 17, 'sentences_page': 26, 'document': 'CV THOMAS LEFÈVRE.docx', 'fullpath': 'Data/Internal/HR/CV THOMAS LEFÈVRE.docx'}\n",
                  "{'text': '[Thomas Lefèvre] \\n[10 Place Vendôme] \\n[Paris, 75001, France] \\n[+33 7 11 22 33 44] \\n[thomaslefevre@email.com] \\n \\nObjective: \\nVisionary and results-driven executive with over 15 years of experience in the \\ntechnology industry. Proven track record of leading and growing companies, developing \\nhigh-performing teams, and driving innovation and success. Seeking to leverage my \\nstrategic, operational, and leadership skills to excel in a new CEO role at StIT. Skills: \\n \\n1. Exceptional strategic thinking, planning, and decision-making abilities. 2. Strong operational and financial management expertise. 3. Excellent interpersonal, communication, and negotiation skills in French and English. 4. In-depth knowledge of the technology industry, trends, and market dynamics. In-depth knowledge of the technology industry, trends, and market dynamics.', 'page': 1, 'sentence_num': 11, 'sentences_page': 26, 'document': 'CV THOMAS LEFÈVRE.docx', 'fullpath': 'Data/Internal/HR/CV THOMAS LEFÈVRE.docx'}\n",
                  "{'text': \"strategic direction, vision, and growth, resulting in a 5x increase in \\nrevenue and a successful Series C funding round. 2. Built and managed a high-performing executive team, fostering collaboration, \\naccountability, and results. 3. Oversaw the development and launch of innovative technology products, driving \\ncustomer adoption and market leadership. 4. Managed the company's financial performance, including budgeting, forecasting, and \\nfundraising, ensuring financial sustainability and growth. 5. Cultivated strong relationships with customers, partners, and investors, driving \\nbusiness opportunities and growth. COO InnoTech Group, Paris, France \\nJune 2008 - February 2015 \\n \\n1. Led the company's operations, including product development, marketing, sales, and \\ncustomer support, driving efficiency, growth, and profitability. Led the company's operations, including product development, marketing, sales, and \\ncustomer support, driving efficiency, growth, and profitability.\", 'page': 2, 'sentence_num': 2, 'sentences_page': 12, 'document': 'CV THOMAS LEFÈVRE.docx', 'fullpath': 'Data/Internal/HR/CV THOMAS LEFÈVRE.docx'}\n",
                  "{'text': \"strategic direction, vision, and growth, resulting in a 5x increase in \\nrevenue and a successful Series C funding round. 2. Built and managed a high-performing executive team, fostering collaboration, \\naccountability, and results. 3. Oversaw the development and launch of innovative technology products, driving \\ncustomer adoption and market leadership. 4. Managed the company's financial performance, including budgeting, forecasting, and \\nfundraising, ensuring financial sustainability and growth. 5. Cultivated strong relationships with customers, partners, and investors, driving \\nbusiness opportunities and growth. COO InnoTech Group, Paris, France \\nJune 2008 - February 2015 \\n \\n1. Led the company's operations, including product development, marketing, sales, and \\ncustomer support, driving efficiency, growth, and profitability. Led the company's operations, including product development, marketing, sales, and \\ncustomer support, driving efficiency, growth, and profitability.\", 'page': 2, 'sentence_num': 2, 'sentences_page': 12, 'document': 'CV THOMAS LEFÈVRE.docx', 'fullpath': 'Data/Internal/HR/CV THOMAS LEFÈVRE.docx'}\n",
                  "{'text': \"technology industry, trends, and market dynamics. In-depth knowledge of the technology industry, trends, and market dynamics. 5. Experience in fundraising, mergers and acquisitions, and corporate governance. 6. Ability to inspire, motivate, and develop teams and individuals. Education: \\nMaster of Business Administration (MBA) \\nINSEAD, Fontainebleau, France \\nGraduated: June 2008 \\n \\nMaster of Science (MSc) in Computer Science \\nÉcole Normale Supérieure, Paris, France \\nGraduated: June 2003 \\n \\nWork Experience: \\nCEO \\nStIT, Paris, France \\nMarch 2015 - Present \\n \\n1. Led the company's strategic direction, vision, and growth, resulting in a 5x increase in \\nrevenue and a successful Series C funding round. Led the company's strategic direction, vision, and growth, resulting in a 5x increase in \\nrevenue and a successful Series C funding round.\", 'page': 1, 'sentence_num': 17, 'sentences_page': 26, 'document': 'CV THOMAS LEFÈVRE.docx', 'fullpath': 'Data/Internal/HR/CV THOMAS LEFÈVRE.docx'}\n",
                  "{'text': \"operations, including product development, marketing, sales, and \\ncustomer support, driving efficiency, growth, and profitability. 2. Collaborated with the CEO and executive team to develop and execute the \\ncompany's strategic plan and vision. 3. Oversaw the development and launch of technology products and solutions, \\nensuring high-quality, on-time, and on-budget delivery. 4. Managed the company's financial performance, including budgeting, forecasting, and \\ncost optimization, driving financial sustainability and growth. 5. Implemented and improved processes, systems, and tools, driving operational \\nexcellence and scalability. Certifications: \\nCertified Director (CDir) \\nInstitute of Directors (IoD), Paris, France \\nMarch 2020 \\n \\nAchievements: \\nFastest-Growing Company Award, 2018 & 2021 - TechInnovators \\nInnovation Leader Award, 2017 - InnoTech Group \\n \\nReferences: \\nAvailable upon request. Certifications: \\nCertified Director (CDir) \\nInstitute of Directors (IoD), Paris, France \\nMarch 2020 \\n \\nAchievements: \\nFastest-Growing Company Award, 2018 & 2021 - TechInnovators \\nInnovation Leader Award, 2017 - InnoTech Group \\n \\nReferences: \\nAvailable upon request.\", 'page': 2, 'sentence_num': 11, 'sentences_page': 12, 'document': 'CV THOMAS LEFÈVRE.docx', 'fullpath': 'Data/Internal/HR/CV THOMAS LEFÈVRE.docx'}\n",
                  "{'text': \"proﬁtability. Led the company's ﬁnance and accounting strategy, vision, and execution, driving \\nbusiness growth and proﬁtability. 2. Built and managed a high-performing ﬁnance team, fostering a culture of excellence, \\ncollaboration, and learning. 3. Developed and implemented ﬁnancial policies, procedures, and controls, aligning \\nwith industry best practices and standards. 4. Managed and mitigated ﬁnancial risks, conducting regular risk assessments and \\nimplementing risk management plans. 5. Collaborated with the CEO and executive team to develop and execute the \\ncompany's strategic plan and vision.  Director of Finance \\nInnoTech Group, Paris, France \\nJune 2008 - February 2015 \\n \\n1. Led the ﬁnance and accounting strategy, vision, and execution for a multinational \\ntechnology company, driving business growth and proﬁtability. Led the ﬁnance and accounting strategy, vision, and execution for a multinational \\ntechnology company, driving business growth and proﬁtability.\", 'page': 2, 'sentence_num': 2, 'sentences_page': 12, 'document': 'CV JEAN MASSART.docx', 'fullpath': 'Data/Internal/HR/CV JEAN MASSART.docx'}\n"
               ]
            }
         ],
         "source": [
            "news_agent(\"test\")"
         ]
      }
   ],
   "metadata": {
      "kernelspec": {
         "display_name": "Python 3",
         "language": "python",
         "name": "python3"
      },
      "language_info": {
         "codemirror_mode": {
            "name": "ipython",
            "version": 3
         },
         "file_extension": ".py",
         "mimetype": "text/x-python",
         "name": "python",
         "nbconvert_exporter": "python",
         "pygments_lexer": "ipython3",
         "version": "3.9.6"
      }
   },
   "nbformat": 4,
   "nbformat_minor": 2
}
