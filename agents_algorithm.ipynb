{
   "cells": [
      {
         "cell_type": "code",
         "execution_count": 84,
         "metadata": {},
         "outputs": [],
         "source": [
            "from mistralai.client import MistralClient\n",
            "from mistralai.models.chat_completion import ChatMessage\n",
            "import os\n",
            "from docx import Document"
         ]
      },
      {
         "cell_type": "code",
         "execution_count": 85,
         "metadata": {},
         "outputs": [
            {
               "name": "stdout",
               "output_type": "stream",
               "text": [
                  "<output>\n",
                  "<priority_level>Medium</priority_level>\n",
                  "<justification>The article discusses a new tax law proposed in France that aims to support the growth of startups and small businesses. As StIT is a technology company based in France, this law could potentially benefit the company, particularly if it is classified as a startup or SME. The proposed reductions in corporate income tax and VAT rates could lead to cost savings for StIT, while the exemption from social security contributions could make it more cost-effective to hire new employees. However, the article does not provide enough detail to determine the full extent of the potential impact on StIT. For example, it is unclear whether StIT's turnover is less than 50 million euros per year, which would make it eligible for the corporate income tax reduction. Additionally, the law is not yet enacted and is subject to approval by the French parliament. Therefore, while the article is relevant to StIT's operations and potential costs, the exact impact remains uncertain.</justification>\n",
                  "<main_topic>The French government has proposed a new tax law aimed at encouraging and supporting the growth of startups and small businesses in the country.</main_topic>\n",
                  "</output>\n",
                  "<output>\n",
                  "<priority_level>Low priority</priority_level>\n",
                  "<justification>The article discusses a local bakery in Paris winning an award for the best croissant in the city. While this is a positive development for the bakery, it has no direct relevance to StIT's goals, operations, or industry. StIT is a technology company focused on developing software solutions for businesses and individuals, and the success of a local bakery does not impact its operations or strategic plans. There are no potential implications or impact of this article on StIT.</justification>\n",
                  "<main_topic>A local bakery in Paris, \"Le Croissant Doré,\" wins an award for the best croissant in the city.</main_topic>\n",
                  "</output>\n",
                  "<output>\n",
                  "<priority_level>Medium priority</priority_level>\n",
                  "<justification>The article discusses a trend that is moderately relevant to StIT's operations and industry. The increasing preference for online shopping among French people highlights the growing importance of e-commerce and digital marketing solutions. As StIT offers software solutions to various sectors, including retail, this shift in consumer behavior could impact the demand for their products and services. The article also mentions the need for a more proactive, innovative, and responsible approach to e-commerce and digital marketing, which aligns with StIT's focus on innovation and security. However, the article does not discuss any major new developments or immediate threats to the company. Therefore, it is recommended that StIT's management and stakeholders be aware of this trend and consider its implications for their business strategies.</justification>\n",
                  "<main_topic>The majority of French people prefer online shopping over in-store, leading to potential changes in the way companies approach e-commerce and digital marketing.</main_topic>\n",
                  "</output>\n",
                  "<output>\n",
                  "<priority_level>Medium priority</priority_level>\n",
                  "<justification>The article discusses a global economic recession's potential impact on the tech sector, which is relevant to StIT as a technology company. The predicted decline in growth, revenue, and investment could affect StIT's financial performance and expansion plans. The decrease in consumer and business spending on tech products and services could potentially lower the demand for StIT's software solutions and services. However, the article does not provide specific information about the French or European market, where StIT is based, nor does it mention any direct competitors or specific opportunities for companies like StIT to mitigate the potential negative effects. Therefore, while the information is relevant, it does not present an immediate or directly significant impact on the company's operations.</justification>\n",
                  "<main_topic>A global economic recession is predicted to negatively impact the tech sector, according to a financial and economic research firm.</main_topic>\n",
                  "</output>\n",
                  "<output>\n",
                  "<priority_level>High priority</priority_level>\n",
                  "<justification>The article discusses a massive and highly sophisticated cyberattack that has compromised the systems and data of a large number of businesses and organizations. Given StIT's focus on providing software solutions to various sectors, including finance, health, retail, and education, the company is potentially at risk of being targeted by such cyberattacks. The article highlights the vulnerabilities and weaknesses of businesses in the area of cybersecurity and underscores the need for a more proactive, comprehensive, and collaborative approach to the prevention, detection, and response to cyber threats and incidents. As StIT places great importance on the security of its clients' data and information, this article is highly relevant to the company's operations and industry. The potential implications and impact of the article on the company include the need to review and strengthen its cybersecurity measures, ensure that its software solutions are secure and up-to-date, and provide training and awareness programs for employees and stakeholders to recognize and respond to cyber threats and incidents. The company's management and other stakeholders should be alerted to the article and its implications as soon as possible to take necessary actions to mitigate the risk of a cyberattack.</justification>\n",
                  "<main_topic>A massive cyberattack has exposed the vulnerabilities of businesses and organizations, highlighting the need for a more proactive approach to cybersecurity.</main_topic>\n",
                  "</output>\n"
               ]
            }
         ],
         "source": [
            "# Agent for News Analysis\n",
            "# Returns:\n",
            "# 1. The significance level of the news (High, Medium, Low)\n",
            "# 2. The main topic of the article\n",
            "def news_analyst_agent(article):\n",
            "    # TODO : Change the prompt\n",
            "    business_model = 'Data/Internal/Company StIT/Business Model de StIT.docx'\n",
            "    long_term_strategy = 'Data/Internal/Company StIT/Plan de développement stratégique sur 8 ans pour StIT.docx'\n",
            "    products_and_services = 'Data/Internal/Company StIT/Produits et services de StIT.docx'\n",
            "    company_docs = [business_model, long_term_strategy, products_and_services]\n",
            "    company_knowledge = ''\n",
            "    for doc in company_docs:\n",
            "        docx_document = Document(doc)\n",
            "        paragraphs_text = ' '.join([paragraph.text for paragraph in docx_document.paragraphs])\n",
            "        company_knowledge += paragraphs_text\n",
            "    prompt = \"\"\"\n",
            "                You are an experienced business analyst tasked with determining the priority level of news articles based on their relevance to your company, StIT.\n",
            "\n",
            "                Here is some crucial information about the company to consider during your analysis:\n",
            "\n",
            "                <company_knowledge>\"\"\"+company_knowledge +\"\"\"</company_knowledge>\n",
            "\n",
            "                Please thoroughly read and analyze the following news article:\n",
            "\n",
            "                <article>\"\"\"+article+\"\"\"</article>\n",
            "\n",
            "                In the <output> section, document your thoughts on the article's relevance to the company. Carefully consider how the main points and key details in the article relate to the provided company knowledge. Here are some guidelines on how to rank the priority level of the article:\n",
            "\n",
            "                * High priority: The article contains information that is highly relevant to the company's goals, operations, or industry, and has the potential to significantly impact the company in the near term. The article may discuss a major new development, a significant change in the regulatory or competitive landscape, or a major opportunity or threat for the company. The company's management and other stakeholders should be alerted to the article and its implications as soon as possible.\n",
            "                * Medium priority: The article contains information that is moderately relevant to the company's goals, operations, or industry, and has the potential to impact the company in the medium term. The article may discuss a new trend or development that is likely to affect the company's business, a change in the competitive landscape that is likely to have a moderate impact, or an opportunity or threat that is not yet fully formed. The company's management and other stakeholders should be aware of the article and its implications, and may want to monitor the situation or take some initial actions to address it.\n",
            "                * Low priority: The article contains information that is not highly relevant to the company's goals, operations, or industry, or is unlikely to have a significant impact on the company. The article may discuss a development that is not directly related to the company's business, a change in the competitive landscape that is unlikely to have a significant impact, or an opportunity or threat that is unlikely to materialize. The company's management and other stakeholders may want to be aware of the article, but it is not necessary to take any immediate actions to address it.\n",
            "\n",
            "                After completing your analysis, provide your final assessment in the <output> section, using the following format:\n",
            "\n",
            "                <output>\n",
            "                <priority_level>Your High/Medium/Low priority rating</priority_level>\n",
            "                <justification>A detailed explanation of your priority rating, including how the article's main points and key details relate to the company's goals, operations, or industry, and the potential implications and impact of the article on the company</justification>\n",
            "                <main_topic>A one-sentence summary highlighting the article's main topic<main_topic>\n",
            "                </output>\n",
            "\n",
            "                Remember, your goal is to help company management quickly identify and prioritize important news, so be sure to consider the key implications and potential impact of the article on the company in your priority rating and justification.\n",
            "            \"\"\"\n",
            "    api_key = \"M5aTzx5CYlozf6qywo77peiSahoeS6ja\"\n",
            "    model = \"mistral-large-latest\"\n",
            "\n",
            "    client = MistralClient(api_key=api_key)\n",
            "\n",
            "    messages = [\n",
            "        ChatMessage(role=\"system\", content=prompt),\n",
            "        ChatMessage(role=\"user\", content=\"Content of the article : \" + article)\n",
            "    ]\n",
            "    \n",
            "    chat_response = client.chat(\n",
            "        model=model,\n",
            "        messages=messages,\n",
            "    )\n",
            "\n",
            "    print(chat_response.choices[0].message.content)\n",
            "\n",
            "\n",
            "news_article1 = 'Data/External/News Articles/ New tax law in France aims to encourage and support the growth of startups and small businesses copy.docx'\n",
            "news_article2 = 'Data/External/News Articles/Local bakery in Paris wins award for best croissant in the city copy.docx'\n",
            "news_article3 = 'Data/External/News Articles/New survey finds that the majority of French people prefer to shop online rather than in-store copy.docx'\n",
            "news_article4 = 'Data/External/News Articles/Global economic recession expected to impact the tech sector copy.docx'\n",
            "news_article5 = 'Data/External/News Articles/Massive cyberattack exposes the vulnerabilities of businesses and organizations copy.docx'\n",
            "news_articles = [news_article1, news_article2, news_article3, news_article4, news_article5]\n",
            "for news_article in news_articles:\n",
            "    docx_document = Document(news_article)\n",
            "    paragraphs_text = ' '.join([paragraph.text for paragraph in docx_document.paragraphs])\n",
            "    news_analyst_agent(paragraphs_text)\n"
         ]
      },
      {
         "cell_type": "code",
         "execution_count": 86,
         "metadata": {},
         "outputs": [],
         "source": [
            "def news_agent(article):\n",
            "    significance, topic = news_analyst_agent(article)\n",
            "    \n",
            "    dispatch_agent(topic)"
         ]
      },
      {
         "cell_type": "code",
         "execution_count": 87,
         "metadata": {},
         "outputs": [],
         "source": [
            "import json\n",
            "\n",
            "# Agent that tells the user responsible to the text given\n",
            "def dispatch_agent(text):\n",
            "    results = internal_retriever_agent(text)\n",
            "    \n",
            "    return None"
         ]
      },
      {
         "cell_type": "code",
         "execution_count": 88,
         "metadata": {},
         "outputs": [],
         "source": [
            "from OpenRAG.src.openrag.chunk_vectorization.chunk_vectorization import get_vectorizer\n",
            "from OpenRAG.src.openrag.vectordb.milvus_adapter import init_milvus_connection\n",
            "from pymilvus import Collection\n",
            "\n",
            "# Agent to retrieve internal information\n",
            "# Returns:\n",
            "# 1. Several contexts linked to the provided text\n",
            "def internal_retriever_agent(text):\n",
            "    vectorizer = get_vectorizer('mistral')\n",
            "    query_vector = vectorizer.vectorize(text)\n",
            "    \n",
            "    init_milvus_connection()\n",
            "    \n",
            "    collection_name = \"mistral_collection\"\n",
            "    collection = Collection(name=collection_name)\n",
            "    \n",
            "    n_neighbors = 10\n",
            "    results = collection.search([query_vector], \"vector\", param={\"metric_type\": \"L2\", \"params\":{}}, limit=n_neighbors, expr=\"source == 'Internal'\")\n",
            "    \n",
            "    final_indices = []\n",
            "    for result in results[0]:\n",
            "        if result.id not in final_indices and len(final_indices) + 1 <= n_neighbors:\n",
            "            final_indices.append([result.id, result.distance])\n",
            "            prev_index = result.id - 1\n",
            "            if prev_index >= 0 and prev_index not in final_indices and len(final_indices) + 1 <= n_neighbors:\n",
            "                final_indices.append([prev_index, result.distance])\n",
            "            next_index = result.id + 1\n",
            "            if next_index not in final_indices and len(final_indices) + 1 <= n_neighbors:\n",
            "                final_indices.append([next_index, result.distance])\n",
            "\n",
            "    results = final_indices\n",
            "    \n",
            "    answer_chunks = []\n",
            "    for hit in results:\n",
            "        print(find_chunks(hit[0]))\n",
            "        answer_chunk = find_chunks(hit[0])\n",
            "        answer_chunks.append(answer_chunk['text'])\n",
            "    \n",
            "    return answer_chunks"
         ]
      },
      {
         "cell_type": "code",
         "execution_count": 89,
         "metadata": {},
         "outputs": [],
         "source": [
            "def find_chunks(id, path = \"Data/Internal/Company StIT/\"):\n",
            "    \"\"\"\n",
            "    Find the chunk based on the given id.\n",
            "    \"\"\"\n",
            "    global_indexing = json.load(open(\"global_indexing.json\", \"r\"))\n",
            "    for key, value in global_indexing.items():\n",
            "        start_idx = value[\"start\"]\n",
            "        end_idx = value[\"end\"]\n",
            "        if start_idx <= id <= end_idx:\n",
            "            index_in_file = id - start_idx\n",
            "            data_dict_file = json.load(open(path + key + \"_chunks.json\", \"r\"))\n",
            "            data_dict_file[\"chunk_\" + str(index_in_file)][\"document\"] = key + \".docx\"\n",
            "            return data_dict_file[\"chunk_\" + str(index_in_file)]\n",
            "    return None"
         ]
      },
      {
         "cell_type": "code",
         "execution_count": 90,
         "metadata": {},
         "outputs": [
            {
               "name": "stdout",
               "output_type": "stream",
               "text": [
                  "{'text': \"technology industry, trends, and market dynamics. In-depth knowledge of the technology industry, trends, and market dynamics. 5. Experience in fundraising, mergers and acquisitions, and corporate governance. 6. Ability to inspire, motivate, and develop teams and individuals.  Education: Master of Business Administration (MBA) INSEAD, Fontainebleau, France Graduated: June 2008  Master of Science (MSc) in Computer Science École Normale Supérieure, Paris, France Graduated: June 2003  Work Experience: CEO StIT, Paris, France March 2015 - Present  1. Led the company's strategic direction, vision, and growth, resulting in a 5x increase in revenue and a successful Series C funding round. 2. Built and managed a high-performing executive team, fostering collaboration, accountability, and results. Built and managed a high-performing executive team, fostering collaboration, accountability, and results.\", 'page': 34, 'sentence_num': 2, 'sentences_page': 2, 'document': 'CV THOMAS LEFÈVRE.docx'}\n",
                  "{'text': '[Thomas Lefèvre] [10 Place Vendôme] [Paris, 75001, France] [+33 7 11 22 33 44] [thomaslefevre@email.com]  Objective: Visionary and results-driven executive with over 15 years of experience in the technology industry. Proven track record of leading and growing companies, developing high-performing teams, and driving innovation and success. Seeking to leverage my strategic, operational, and leadership skills to excel in a new CEO role at StIT.  Skills:  1. Exceptional strategic thinking, planning, and decision-making abilities. 2. Strong operational and financial management expertise. 3. Excellent interpersonal, communication, and negotiation skills in French and English. 4. In-depth knowledge of the technology industry, trends, and market dynamics. In-depth knowledge of the technology industry, trends, and market dynamics.', 'page': 15, 'sentence_num': 2, 'sentences_page': 2, 'document': 'CV THOMAS LEFÈVRE.docx'}\n",
                  "{'text': \"accountability, and results. Built and managed a high-performing executive team, fostering collaboration, accountability, and results. 3. Oversaw the development and launch of innovative technology products, driving customer adoption and market leadership. 4. Managed the company's financial performance, including budgeting, forecasting, and fundraising, ensuring financial sustainability and growth. 5. Cultivated strong relationships with customers, partners, and investors, driving business opportunities and growth.  COO InnoTech Group, Paris, France June 2008 - February 2015  1. Led the company's operations, including product development, marketing, sales, and customer support, driving efficiency, growth, and profitability. 2. Collaborated with the CEO and executive team to develop and execute the company's strategic plan and vision. 3. Oversaw the development and launch of technology products and solutions, ensuring high-quality, on-time, and on-budget delivery. Oversaw the development and launch of technology products and solutions, ensuring high-quality, on-time, and on-budget delivery.\", 'page': 45, 'sentence_num': 2, 'sentences_page': 2, 'document': 'CV THOMAS LEFÈVRE.docx'}\n",
                  "{'text': '[Thomas Lefèvre] [10 Place Vendôme] [Paris, 75001, France] [+33 7 11 22 33 44] [thomaslefevre@email.com]  Objective: Visionary and results-driven executive with over 15 years of experience in the technology industry. Proven track record of leading and growing companies, developing high-performing teams, and driving innovation and success. Seeking to leverage my strategic, operational, and leadership skills to excel in a new CEO role at StIT.  Skills:  1. Exceptional strategic thinking, planning, and decision-making abilities. 2. Strong operational and financial management expertise. 3. Excellent interpersonal, communication, and negotiation skills in French and English. 4. In-depth knowledge of the technology industry, trends, and market dynamics. In-depth knowledge of the technology industry, trends, and market dynamics.', 'page': 15, 'sentence_num': 2, 'sentences_page': 2, 'document': 'CV THOMAS LEFÈVRE.docx'}\n",
                  "{'text': \"implementation of HR initiatives and projects. Contribute to the development and implementation of HR initiatives and projects.  Internship: HR Intern Dynamo Consulting, Paris, France January 2021 - April 2021  1. Assisted in the recruitment and onboarding processes, including sourcing, screening, and interviewing candidates. 2. Supported the HR team in the administration of HR policies, procedures, and employee records. 3. Conducted research on HR best practices, French labor laws, and industry trends. 4. Gained valuable experience in the human resources field and developed a strong understanding of HR processes.  Certifications: HR Certification Institute (HRCI) - Associate Professional in Human Resources (aPHR) HR Certification Institute, Paris, France July 2021  Achievements: Top Performing Intern, 2021 - Dynamo Consulting Dean's List, 2019-2021 - ESCP Business School Dean's List, 2019-2021 - ESCP Business School\", 'page': 52, 'sentence_num': 1, 'sentences_page': 1, 'document': 'CV SOPHIE MOREAU.docx'}\n",
                  "{'text': \"technology industry, trends, and market dynamics. In-depth knowledge of the technology industry, trends, and market dynamics. 5. Experience in fundraising, mergers and acquisitions, and corporate governance. 6. Ability to inspire, motivate, and develop teams and individuals.  Education: Master of Business Administration (MBA) INSEAD, Fontainebleau, France Graduated: June 2008  Master of Science (MSc) in Computer Science École Normale Supérieure, Paris, France Graduated: June 2003  Work Experience: CEO StIT, Paris, France March 2015 - Present  1. Led the company's strategic direction, vision, and growth, resulting in a 5x increase in revenue and a successful Series C funding round. 2. Built and managed a high-performing executive team, fostering collaboration, accountability, and results. Built and managed a high-performing executive team, fostering collaboration, accountability, and results.\", 'page': 34, 'sentence_num': 2, 'sentences_page': 2, 'document': 'CV THOMAS LEFÈVRE.docx'}\n",
                  "{'text': \"accountability, and results. Built and managed a high-performing executive team, fostering collaboration, accountability, and results. 3. Oversaw the development and launch of innovative technology products, driving customer adoption and market leadership. 4. Managed the company's financial performance, including budgeting, forecasting, and fundraising, ensuring financial sustainability and growth. 5. Cultivated strong relationships with customers, partners, and investors, driving business opportunities and growth.  COO InnoTech Group, Paris, France June 2008 - February 2015  1. Led the company's operations, including product development, marketing, sales, and customer support, driving efficiency, growth, and profitability. 2. Collaborated with the CEO and executive team to develop and execute the company's strategic plan and vision. 3. Oversaw the development and launch of technology products and solutions, ensuring high-quality, on-time, and on-budget delivery. Oversaw the development and launch of technology products and solutions, ensuring high-quality, on-time, and on-budget delivery.\", 'page': 45, 'sentence_num': 2, 'sentences_page': 2, 'document': 'CV THOMAS LEFÈVRE.docx'}\n",
                  "{'text': \"technology industry, trends, and market dynamics. In-depth knowledge of the technology industry, trends, and market dynamics. 5. Experience in fundraising, mergers and acquisitions, and corporate governance. 6. Ability to inspire, motivate, and develop teams and individuals.  Education: Master of Business Administration (MBA) INSEAD, Fontainebleau, France Graduated: June 2008  Master of Science (MSc) in Computer Science École Normale Supérieure, Paris, France Graduated: June 2003  Work Experience: CEO StIT, Paris, France March 2015 - Present  1. Led the company's strategic direction, vision, and growth, resulting in a 5x increase in revenue and a successful Series C funding round. 2. Built and managed a high-performing executive team, fostering collaboration, accountability, and results. Built and managed a high-performing executive team, fostering collaboration, accountability, and results.\", 'page': 34, 'sentence_num': 2, 'sentences_page': 2, 'document': 'CV THOMAS LEFÈVRE.docx'}\n",
                  "{'text': \"Plan de développement stratégique sur 8 ans pour StIT  1. Vision : Devenir un leader mondial dans le développement de solutions logicielles innovantes et sécurisées pour les entreprises et les particuliers.  2. Mission : Fournir des solutions logicielles personnalisées et de haute qualité qui répondent aux besoins uniques de nos clients et les aident à atteindre leurs objectifs commerciaux et personnels.  3. Objectifs stratégiques :  a. Expansion du marché : Étendre la présence de StIT sur de nouveaux marchés et secteurs, tant au niveau national qu'international, en se concentrant sur les marchés à forte croissance et à fort potentiel.  b. Croissance des revenus : Augmenter les revenus de StIT en élargissant sa base de clients, en lançant de nouveaux produits et services et en améliorant ses processus de vente et de marketing. Croissance des revenus : Augmenter les revenus de StIT en élargissant sa base de clients, en lançant de nouveaux produits et services et en améliorant ses processus de vente et de marketing.\", 'page': 11, 'sentence_num': 2, 'sentences_page': 2, 'document': 'PLAN DE DÉVELOPPEMENT STRATÉGIQUE SUR 8 ANS POUR STIT.docx'}\n",
                  "{'text': 'skills, experience, performance, and market value, and in avoiding any discrimination or bias in our compensation decisions. * Competitiveness: We believe in providing our employees with a competitive and attractive salary, based on the relevant market data and benchmarks, and in reviewing and adjusting our salary ranges and structures regularly to ensure that they remain competitive.  3. Our Salary Ranges and Structures:  Based on the different profiles and roles that we have at StIT, we have established the following salary ranges and structures:  * CEO: The salary range for our CEO is between $250,000 and $350,000 per year, based on the relevant market data and benchmarks, and subject to the approval of our board of directors. * COO: The salary range for our COO is between $150,000 and $250,000 per year, based on the relevant market data and benchmarks, and subject to the approval of our CEO. * COO: The salary range for our COO is between $150,000 and $250,000 per year, based on the relevant market data and benchmarks, and subject to the approval of our CEO.', 'page': 22, 'sentence_num': 1, 'sentences_page': 1, 'document': 'SALARY POLICY FOR STIT.docx'}\n"
               ]
            }
         ],
         "source": [
            "dispatch_agent(\"Something about the actual leader of the company\")"
         ]
      },
      {
         "cell_type": "code",
         "execution_count": 91,
         "metadata": {},
         "outputs": [],
         "source": [
            "# Function scanning the response from the LLM for a specific action call\n",
            "def scan_response(response):\n",
            "    # TODO : Implement the different cases for the different actions and run the corresponding agent\n",
            "    pass"
         ]
      }
   ],
   "metadata": {
      "kernelspec": {
         "display_name": "Python 3",
         "language": "python",
         "name": "python3"
      },
      "language_info": {
         "codemirror_mode": {
            "name": "ipython",
            "version": 3
         },
         "file_extension": ".py",
         "mimetype": "text/x-python",
         "name": "python",
         "nbconvert_exporter": "python",
         "pygments_lexer": "ipython3",
         "version": "3.9.6"
      }
   },
   "nbformat": 4,
   "nbformat_minor": 2
}