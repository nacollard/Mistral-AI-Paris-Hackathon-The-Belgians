{
   "cells": [
      {
         "cell_type": "code",
         "execution_count": 101,
         "metadata": {},
         "outputs": [],
         "source": [
            "from mistralai.client import MistralClient\n",
            "from mistralai.models.chat_completion import ChatMessage\n",
            "import os\n",
            "from docx import Document"
         ]
      },
      {
         "cell_type": "code",
         "execution_count": 108,
         "metadata": {},
         "outputs": [],
         "source": [
            "# Agent for News Analysis\n",
            "# Returns:\n",
            "# 1. The significance level of the news (High, Medium, Low)\n",
            "# 2. The main topic of the article\n",
            "def news_analyst_agent(article):\n",
            "    # TODO : Change the prompt\n",
            "    business_model = 'Data/Internal/Company StIT/Business Model de StIT.docx'\n",
            "    long_term_strategy = 'Data/Internal/Company StIT/Plan de développement stratégique sur 8 ans pour StIT.docx'\n",
            "    products_and_services = 'Data/Internal/Company StIT/Produits et services de StIT.docx'\n",
            "    company_docs = [business_model, long_term_strategy, products_and_services]\n",
            "    company_knowledge = ''\n",
            "    for doc in company_docs:\n",
            "        docx_document = Document(doc)\n",
            "        paragraphs_text = ' '.join([paragraph.text for paragraph in docx_document.paragraphs])\n",
            "        company_knowledge += paragraphs_text\n",
            "    prompt = \"\"\"\n",
            "                You are an experienced business analyst tasked with determining the priority level of news articles based on their relevance to your company, StIT.\n",
            "\n",
            "                Here is some crucial information about the company to consider during your analysis:\n",
            "\n",
            "                <company_knowledge>\"\"\"+company_knowledge +\"\"\"</company_knowledge>\n",
            "\n",
            "                Please thoroughly read and analyze the following news article:\n",
            "\n",
            "                <article>\"\"\"+article+\"\"\"</article>\n",
            "\n",
            "                In the <output> section, document your thoughts on the article's relevance to the company. Carefully consider how the main points and key details in the article relate to the provided company knowledge. Here are some guidelines on how to rank the priority level of the article:\n",
            "\n",
            "                * High priority: The article contains information that is highly relevant to the company's goals, operations, or industry, and has the potential to significantly impact the company in the near term. The article may discuss a major new development, a significant change in the regulatory or competitive landscape, or a major opportunity or threat for the company. The company's management and other stakeholders should be alerted to the article and its implications as soon as possible.\n",
            "                * Medium priority: The article contains information that is moderately relevant to the company's goals, operations, or industry, and has the potential to impact the company in the medium term. The article may discuss a new trend or development that is likely to affect the company's business, a change in the competitive landscape that is likely to have a moderate impact, or an opportunity or threat that is not yet fully formed. The company's management and other stakeholders should be aware of the article and its implications, and may want to monitor the situation or take some initial actions to address it.\n",
            "                * Low priority: The article contains information that is not highly relevant to the company's goals, operations, or industry, or is unlikely to have a significant impact on the company. The article may discuss a development that is not directly related to the company's business, a change in the competitive landscape that is unlikely to have a significant impact, or an opportunity or threat that is unlikely to materialize. The company's management and other stakeholders may want to be aware of the article, but it is not necessary to take any immediate actions to address it.\n",
            "\n",
            "                After completing your analysis, provide your final assessment in the <output> section, using the following format:\n",
            "\n",
            "                <output>\n",
            "                <priority_level>Your High/Medium/Low priority rating</priority_level>\n",
            "                <justification>A detailed explanation of your priority rating, including how the article's main points and key details relate to the company's goals, operations, or industry, and the potential implications and impact of the article on the company</justification>\n",
            "                <main_topic>A one-sentence summary highlighting the article's main topic<main_topic>\n",
            "                </output>\n",
            "\n",
            "                Remember, your goal is to help company management quickly identify and prioritize important news, so be sure to consider the key implications and potential impact of the article on the company in your priority rating and justification.\n",
            "            \"\"\"\n",
            "    api_key = \"M5aTzx5CYlozf6qywo77peiSahoeS6ja\"\n",
            "    model = \"mistral-large-latest\"\n",
            "\n",
            "    client = MistralClient(api_key=api_key)\n",
            "\n",
            "    messages = [\n",
            "        ChatMessage(role=\"system\", content=prompt),\n",
            "        ChatMessage(role=\"user\", content=\"Content of the article : \" + article)\n",
            "    ]\n",
            "    \n",
            "    chat_response = client.chat(\n",
            "        model=model,\n",
            "        messages=messages,\n",
            "    )\n",
            "    \n",
            "    xml_response = chat_response.choices[0].message.content\n",
            "    priority_level = xml_retriever(xml_response, 'priority_level')\n",
            "    justification = xml_retriever(xml_response, 'justification')\n",
            "    main_topic = xml_retriever(xml_response, 'main_topic')\n",
            "    \n",
            "    return priority_level, justification, main_topic\n"
         ]
      },
      {
         "cell_type": "code",
         "execution_count": null,
         "metadata": {},
         "outputs": [],
         "source": [
            "news_article1 = 'Data/External/News Articles/ New tax law in France aims to encourage and support the growth of startups and small businesses copy.docx'\n",
            "news_article2 = 'Data/External/News Articles/Local bakery in Paris wins award for best croissant in the city copy.docx'\n",
            "news_article3 = 'Data/External/News Articles/New survey finds that the majority of French people prefer to shop online rather than in-store copy.docx'\n",
            "news_article4 = 'Data/External/News Articles/Global economic recession expected to impact the tech sector copy.docx'\n",
            "news_article5 = 'Data/External/News Articles/Massive cyberattack exposes the vulnerabilities of businesses and organizations copy.docx'\n",
            "news_articles = [news_article1, news_article2, news_article3, news_article4, news_article5]\n",
            "for news_article in news_articles:\n",
            "    docx_document = Document(news_article)\n",
            "    paragraphs_text = ' '.join([paragraph.text for paragraph in docx_document.paragraphs])\n",
            "    news_analyst_agent(paragraphs_text)"
         ]
      },
      {
         "cell_type": "code",
         "execution_count": 109,
         "metadata": {},
         "outputs": [],
         "source": [
            "def xml_retriever(xml_response, tag):\n",
            "    return xml_response.split('<'+tag+'>')[1].split('</'+tag+'>')[0]"
         ]
      },
      {
         "cell_type": "code",
         "execution_count": 110,
         "metadata": {},
         "outputs": [],
         "source": [
            "def news_agent(article):\n",
            "    news_article1 = 'Data/External/News Articles/ New tax law in France aims to encourage and support the growth of startups and small businesses copy.docx'\n",
            "    \n",
            "    docx_document = Document(news_article1)\n",
            "    paragraphs_text = ' '.join([paragraph.text for paragraph in docx_document.paragraphs])\n",
            "    priority_level, justification, main_topic = news_analyst_agent(paragraphs_text)\n",
            "    \n",
            "    print(\"Priority Level: \", priority_level)\n",
            "    print(\"Justification: \", justification)\n",
            "    print(\"Main Topic: \", main_topic)\n",
            "        \n",
            "    dispatch_agent(main_topic)"
         ]
      },
      {
         "cell_type": "code",
         "execution_count": 111,
         "metadata": {},
         "outputs": [
            {
               "name": "stdout",
               "output_type": "stream",
               "text": [
                  "Priority Level:  Medium priority\n",
                  "Justification:  The article discusses a new tax law in France aimed at encouraging and supporting the growth of startups and small businesses. As StIT is a technology company based in France, this law could potentially benefit the company, particularly if it is classified as a startup or SME. The proposed reduction in corporate income tax and value-added tax (VAT) could improve StIT's financial position, while the exemption from social security contributions for hiring new employees could reduce costs and encourage growth. However, the law is not yet enacted and its impact on StIT will depend on the specifics of the company's financial situation and operations. The company's management should be aware of this development and monitor its progress, but no immediate action is necessary until the law is enacted.\n",
                  "Main Topic:  The French government has proposed a new tax law to support the growth of startups and small businesses by providing various tax incentives and benefits.\n",
                  "{'text': \"sa base de clients, en lançant de nouveaux produits et services et en améliorant ses processus de vente et de marketing.  c. Innovation continue : Investir dans la recherche et le développement (R&D) pour rester à la pointe de la technologie et offrir des solutions logicielles de pointe à nos clients.  d. Développement durable : Adopter des pratiques commerciales durables et réduire l'empreinte environnementale de StIT en utilisant des technologies écoénergétiques et en promouvant des pratiques de travail respectueuses de l'environnement.  4. Initiatives stratégiques :  a. Expansion internationale : Ouvrir de nouveaux bureaux et établir des partenariats stratégiques dans des pays clés pour étendre la portée de StIT et accéder à de nouveaux marchés. Expansion internationale : Ouvrir de nouveaux bureaux et établir des partenariats stratégiques dans des pays clés pour étendre la portée de StIT et accéder à de nouveaux marchés.\", 'page': 19, 'sentence_num': 2, 'sentences_page': 2, 'document': 'PLAN DE DÉVELOPPEMENT STRATÉGIQUE SUR 8 ANS POUR STIT.docx'}\n",
                  "{'text': \"Plan de développement stratégique sur 8 ans pour StIT  1. Vision : Devenir un leader mondial dans le développement de solutions logicielles innovantes et sécurisées pour les entreprises et les particuliers.  2. Mission : Fournir des solutions logicielles personnalisées et de haute qualité qui répondent aux besoins uniques de nos clients et les aident à atteindre leurs objectifs commerciaux et personnels.  3. Objectifs stratégiques :  a. Expansion du marché : Étendre la présence de StIT sur de nouveaux marchés et secteurs, tant au niveau national qu'international, en se concentrant sur les marchés à forte croissance et à fort potentiel.  b. Croissance des revenus : Augmenter les revenus de StIT en élargissant sa base de clients, en lançant de nouveaux produits et services et en améliorant ses processus de vente et de marketing. Croissance des revenus : Augmenter les revenus de StIT en élargissant sa base de clients, en lançant de nouveaux produits et services et en améliorant ses processus de vente et de marketing.\", 'page': 11, 'sentence_num': 2, 'sentences_page': 2, 'document': 'PLAN DE DÉVELOPPEMENT STRATÉGIQUE SUR 8 ANS POUR STIT.docx'}\n",
                  "{'text': \"établir des partenariats stratégiques dans des pays clés pour étendre la portée de StIT et accéder à de nouveaux marchés.  b. Diversification des produits : Élargir le portefeuille de produits et de services de StIT en lançant de nouvelles solutions logicielles et en explorant de nouveaux domaines de croissance, tels que l'intelligence artificielle (IA), l'apprentissage automatique (ML) et l'Internet des objets (IoT).  c. Amélioration de l'expérience client : Investir dans l'amélioration de l'expérience client en développant des interfaces utilisateur conviviales, en offrant une assistance clientèle exceptionnelle et en recueillant régulièrement les commentaires des clients. Amélioration de l'expérience client : Investir dans l'amélioration de l'expérience client en développant des interfaces utilisateur conviviales, en offrant une assistance clientèle exceptionnelle et en recueillant régulièrement les commentaires des clients.\", 'page': 23, 'sentence_num': 2, 'sentences_page': 2, 'document': 'PLAN DE DÉVELOPPEMENT STRATÉGIQUE SUR 8 ANS POUR STIT.docx'}\n",
                  "{'text': \"en utilisant des technologies écoénergétiques et en promouvant des pratiques de travail respectueuses de l'environnement.  4. Initiatives stratégiques pour 2024 :  a. Lancement de nouveaux produits : Lancer 2 nouveaux produits ou services dans le portefeuille de StIT, en se concentrant sur les domaines de croissance émergents, tels que l'intelligence artificielle (IA) et l'apprentissage automatique (ML).  b. Expansion internationale : Ouvrir un nouveau bureau dans un pays clé et établir des partenariats stratégiques pour accéder à de nouveaux marchés et renforcer la présence mondiale de StIT.  c. Amélioration de l'expérience client : Investir dans l'amélioration de l'expérience client en développant des interfaces utilisateur conviviales, en offrant une assistance clientèle exceptionnelle et en recueillant régulièrement les commentaires des clients. Amélioration de l'expérience client : Investir dans l'amélioration de l'expérience client en développant des interfaces utilisateur conviviales, en offrant une assistance clientèle exceptionnelle et en recueillant régulièrement les commentaires des clients.\", 'page': 23, 'sentence_num': 2, 'sentences_page': 2, 'document': 'PLAN STRATÉGIQUE ANNUEL DE STIT POUR L.docx'}\n",
                  "{'text': \"la base de clients, en améliorant les processus de vente et de marketing et en lançant de nouveaux produits et services.  b. Expansion du marché : Étendre la présence de StIT sur de nouveaux marchés et secteurs, tant au niveau national qu'international, en se concentrant sur les marchés à forte croissance et à fort potentiel.  c. Innovation continue : Investir dans la recherche et le développement (R&D) pour rester à la pointe de la technologie et offrir des solutions logicielles de pointe à nos clients.  d. Développement durable : Adopter des pratiques commerciales durables et réduire l'empreinte environnementale de StIT en utilisant des technologies écoénergétiques et en promouvant des pratiques de travail respectueuses de l'environnement. Développement durable : Adopter des pratiques commerciales durables et réduire l'empreinte environnementale de StIT en utilisant des technologies écoénergétiques et en promouvant des pratiques de travail respectueuses de l'environnement.\", 'page': 15, 'sentence_num': 2, 'sentences_page': 2, 'document': 'PLAN STRATÉGIQUE ANNUEL DE STIT POUR L.docx'}\n",
                  "{'text': \"conviviales, en offrant une assistance clientèle exceptionnelle et en recueillant régulièrement les commentaires des clients.  d. Optimisation des opérations : Améliorer l'efficacité et la productivité des opérations de StIT en automatisant les processus, en adoptant des méthodes Agile et en renforçant la collaboration interfonctionnelle.  e. Développement des talents : Attirer, former et fidéliser les meilleurs talents de l'industrie en offrant des programmes de formation et de développement, des opportunités de croissance et une culture d'entreprise positive et inclusive.  5. Jalons et échéancier pour 2024 :  T1 2024 :  * Lancer 1 nouveau produit ou service * Lancer 1 nouveau produit ou service\", 'page': 33, 'sentence_num': 1, 'sentences_page': 1, 'document': 'PLAN STRATÉGIQUE ANNUEL DE STIT POUR L.docx'}\n",
                  "{'text': \"la base de clients, en améliorant les processus de vente et de marketing et en lançant de nouveaux produits et services.  b. Expansion du marché : Étendre la présence de StIT sur de nouveaux marchés et secteurs, tant au niveau national qu'international, en se concentrant sur les marchés à forte croissance et à fort potentiel.  c. Innovation continue : Investir dans la recherche et le développement (R&D) pour rester à la pointe de la technologie et offrir des solutions logicielles de pointe à nos clients.  d. Développement durable : Adopter des pratiques commerciales durables et réduire l'empreinte environnementale de StIT en utilisant des technologies écoénergétiques et en promouvant des pratiques de travail respectueuses de l'environnement. Développement durable : Adopter des pratiques commerciales durables et réduire l'empreinte environnementale de StIT en utilisant des technologies écoénergétiques et en promouvant des pratiques de travail respectueuses de l'environnement.\", 'page': 15, 'sentence_num': 2, 'sentences_page': 2, 'document': 'PLAN STRATÉGIQUE ANNUEL DE STIT POUR L.docx'}\n",
                  "{'text': \"Plan stratégique annuel de StIT pour l'année 2024  1. Vision : Devenir un leader mondial dans le développement de solutions logicielles innovantes et sécurisées pour les entreprises et les particuliers.  2. Mission : Fournir des solutions logicielles personnalisées et de haute qualité qui répondent aux besoins uniques de nos clients et les aident à atteindre leurs objectifs commerciaux et personnels.  3. Objectifs stratégiques pour 2024 :  a. Croissance des revenus : Augmenter les revenus de StIT de 20 % par rapport à l'année précédente en élargissant la base de clients, en améliorant les processus de vente et de marketing et en lançant de nouveaux produits et services. Croissance des revenus : Augmenter les revenus de StIT de 20 % par rapport à l'année précédente en élargissant la base de clients, en améliorant les processus de vente et de marketing et en lançant de nouveaux produits et services.\", 'page': 9, 'sentence_num': 2, 'sentences_page': 2, 'document': 'PLAN STRATÉGIQUE ANNUEL DE STIT POUR L.docx'}\n",
                  "{'text': \"en utilisant des technologies écoénergétiques et en promouvant des pratiques de travail respectueuses de l'environnement.  4. Initiatives stratégiques pour 2024 :  a. Lancement de nouveaux produits : Lancer 2 nouveaux produits ou services dans le portefeuille de StIT, en se concentrant sur les domaines de croissance émergents, tels que l'intelligence artificielle (IA) et l'apprentissage automatique (ML).  b. Expansion internationale : Ouvrir un nouveau bureau dans un pays clé et établir des partenariats stratégiques pour accéder à de nouveaux marchés et renforcer la présence mondiale de StIT.  c. Amélioration de l'expérience client : Investir dans l'amélioration de l'expérience client en développant des interfaces utilisateur conviviales, en offrant une assistance clientèle exceptionnelle et en recueillant régulièrement les commentaires des clients. Amélioration de l'expérience client : Investir dans l'amélioration de l'expérience client en développant des interfaces utilisateur conviviales, en offrant une assistance clientèle exceptionnelle et en recueillant régulièrement les commentaires des clients.\", 'page': 23, 'sentence_num': 2, 'sentences_page': 2, 'document': 'PLAN STRATÉGIQUE ANNUEL DE STIT POUR L.docx'}\n",
                  "{'text': \"technology industry, trends, and market dynamics. In-depth knowledge of the technology industry, trends, and market dynamics. 5. Experience in fundraising, mergers and acquisitions, and corporate governance. 6. Ability to inspire, motivate, and develop teams and individuals.  Education: Master of Business Administration (MBA) INSEAD, Fontainebleau, France Graduated: June 2008  Master of Science (MSc) in Computer Science École Normale Supérieure, Paris, France Graduated: June 2003  Work Experience: CEO StIT, Paris, France March 2015 - Present  1. Led the company's strategic direction, vision, and growth, resulting in a 5x increase in revenue and a successful Series C funding round. 2. Built and managed a high-performing executive team, fostering collaboration, accountability, and results. Built and managed a high-performing executive team, fostering collaboration, accountability, and results.\", 'page': 34, 'sentence_num': 2, 'sentences_page': 2, 'document': 'CV THOMAS LEFÈVRE.docx'}\n"
               ]
            }
         ],
         "source": [
            "news_agent(\"test\")"
         ]
      },
      {
         "cell_type": "code",
         "execution_count": null,
         "metadata": {},
         "outputs": [],
         "source": [
            "import json\n",
            "\n",
            "# Agent that tells the user responsible to the text given\n",
            "def dispatch_agent(text):\n",
            "    results = internal_retriever_agent(text)\n",
            "    \n",
            "    return None"
         ]
      },
      {
         "cell_type": "code",
         "execution_count": null,
         "metadata": {},
         "outputs": [],
         "source": [
            "from OpenRAG.src.openrag.chunk_vectorization.chunk_vectorization import get_vectorizer\n",
            "from OpenRAG.src.openrag.vectordb.milvus_adapter import init_milvus_connection\n",
            "from pymilvus import Collection\n",
            "\n",
            "# Agent to retrieve internal information\n",
            "# Returns:\n",
            "# 1. Several contexts linked to the provided text\n",
            "def internal_retriever_agent(text):\n",
            "    vectorizer = get_vectorizer('mistral')\n",
            "    query_vector = vectorizer.vectorize(text)\n",
            "    \n",
            "    init_milvus_connection()\n",
            "    \n",
            "    collection_name = \"mistral_collection\"\n",
            "    collection = Collection(name=collection_name)\n",
            "    \n",
            "    n_neighbors = 10\n",
            "    results = collection.search([query_vector], \"vector\", param={\"metric_type\": \"L2\", \"params\":{}}, limit=n_neighbors, expr=\"source == 'Internal'\")\n",
            "    \n",
            "    final_indices = []\n",
            "    for result in results[0]:\n",
            "        if result.id not in final_indices and len(final_indices) + 1 <= n_neighbors:\n",
            "            final_indices.append([result.id, result.distance])\n",
            "            prev_index = result.id - 1\n",
            "            if prev_index >= 0 and prev_index not in final_indices and len(final_indices) + 1 <= n_neighbors:\n",
            "                final_indices.append([prev_index, result.distance])\n",
            "            next_index = result.id + 1\n",
            "            if next_index not in final_indices and len(final_indices) + 1 <= n_neighbors:\n",
            "                final_indices.append([next_index, result.distance])\n",
            "\n",
            "    results = final_indices\n",
            "    \n",
            "    answer_chunks = []\n",
            "    for hit in results:\n",
            "        print(find_chunks(hit[0]))\n",
            "        answer_chunk = find_chunks(hit[0])\n",
            "        answer_chunks.append(answer_chunk['text'])\n",
            "    \n",
            "    return answer_chunks"
         ]
      },
      {
         "cell_type": "code",
         "execution_count": null,
         "metadata": {},
         "outputs": [],
         "source": [
            "def find_chunks(id, path = \"Data/Internal/Company StIT/\"):\n",
            "    \"\"\"\n",
            "    Find the chunk based on the given id.\n",
            "    \"\"\"\n",
            "    global_indexing = json.load(open(\"global_indexing.json\", \"r\"))\n",
            "    for key, value in global_indexing.items():\n",
            "        start_idx = value[\"start\"]\n",
            "        end_idx = value[\"end\"]\n",
            "        if start_idx <= id <= end_idx:\n",
            "            index_in_file = id - start_idx\n",
            "            data_dict_file = json.load(open(path + key + \"_chunks.json\", \"r\"))\n",
            "            data_dict_file[\"chunk_\" + str(index_in_file)][\"document\"] = key + \".docx\"\n",
            "            return data_dict_file[\"chunk_\" + str(index_in_file)]\n",
            "    return None"
         ]
      },
      {
         "cell_type": "code",
         "execution_count": null,
         "metadata": {},
         "outputs": [],
         "source": [
            "# Function scanning the response from the LLM for a specific action call\n",
            "def scan_response(response):\n",
            "    # TODO : Implement the different cases for the different actions and run the corresponding agent\n",
            "    pass"
         ]
      }
   ],
   "metadata": {
      "kernelspec": {
         "display_name": "Python 3",
         "language": "python",
         "name": "python3"
      },
      "language_info": {
         "codemirror_mode": {
            "name": "ipython",
            "version": 3
         },
         "file_extension": ".py",
         "mimetype": "text/x-python",
         "name": "python",
         "nbconvert_exporter": "python",
         "pygments_lexer": "ipython3",
         "version": "3.9.6"
      }
   },
   "nbformat": 4,
   "nbformat_minor": 2
}
