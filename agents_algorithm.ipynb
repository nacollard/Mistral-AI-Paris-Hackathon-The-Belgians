{
 "cells": [
  {
   "cell_type": "code",
   "execution_count": 84,
   "metadata": {},
   "outputs": [],
   "source": [
    "from mistralai.client import MistralClient\n",
    "from mistralai.models.chat_completion import ChatMessage\n",
    "import os"
   ]
  },
  {
   "cell_type": "code",
   "execution_count": 85,
   "metadata": {},
   "outputs": [],
   "source": [
    "# Agent for News Analysis\n",
    "# Returns:\n",
    "# 1. The significance level of the news (High, Medium, Low)\n",
    "# 2. The main topic of the article\n",
    "def news_analyst_agent(article):\n",
    "    # TODO : Change the prompt\n",
    "    prompt = \"Fill here the prompt you want to use to analyze the news\"\n",
    "    \n",
    "    api_key = os.environ[\"MISTRAL_API_KEY\"]\n",
    "    model = \"mistral-large-latest\"\n",
    "\n",
    "    client = MistralClient(api_key=api_key)\n",
    "\n",
    "    messages = [\n",
    "        ChatMessage(role=\"system\", content=prompt),\n",
    "        ChatMessage(role=\"user\", content=\"Content of the article : \" + article)\n",
    "    ]\n",
    "    \n",
    "    chat_response = client.chat(\n",
    "        model=model,\n",
    "        messages=messages,\n",
    "    )\n",
    "\n",
    "    print(chat_response.choices[0].message.content)"
   ]
  },
  {
   "cell_type": "code",
   "execution_count": 86,
   "metadata": {},
   "outputs": [],
   "source": [
    "def news_agent(article):\n",
    "    significance, topic = news_analyst_agent(article)\n",
    "    \n",
    "    dispatch_agent(topic)"
   ]
  },
  {
   "cell_type": "code",
   "execution_count": 87,
   "metadata": {},
   "outputs": [],
   "source": [
    "import json\n",
    "\n",
    "# Agent that tells the user responsible to the text given\n",
    "def dispatch_agent(text):\n",
    "    results = internal_retriever_agent(text)\n",
    "    \n",
    "    return None"
   ]
  },
  {
   "cell_type": "code",
   "execution_count": 88,
   "metadata": {},
   "outputs": [],
   "source": [
    "from OpenRAG.src.openrag.chunk_vectorization.chunk_vectorization import get_vectorizer\n",
    "from OpenRAG.src.openrag.vectordb.milvus_adapter import init_milvus_connection\n",
    "from pymilvus import Collection\n",
    "\n",
    "# Agent to retrieve internal information\n",
    "# Returns:\n",
    "# 1. Several contexts linked to the provided text\n",
    "def internal_retriever_agent(text):\n",
    "    vectorizer = get_vectorizer('mistral')\n",
    "    query_vector = vectorizer.vectorize(text)\n",
    "    \n",
    "    init_milvus_connection()\n",
    "    \n",
    "    collection_name = \"mistral_collection\"\n",
    "    collection = Collection(name=collection_name)\n",
    "    \n",
    "    n_neighbors = 10\n",
    "    results = collection.search([query_vector], \"vector\", param={\"metric_type\": \"L2\", \"params\":{}}, limit=n_neighbors, expr=\"source == 'Internal'\")\n",
    "    \n",
    "    final_indices = []\n",
    "    for result in results[0]:\n",
    "        if result.id not in final_indices and len(final_indices) + 1 <= n_neighbors:\n",
    "            final_indices.append([result.id, result.distance])\n",
    "            prev_index = result.id - 1\n",
    "            if prev_index >= 0 and prev_index not in final_indices and len(final_indices) + 1 <= n_neighbors:\n",
    "                final_indices.append([prev_index, result.distance])\n",
    "            next_index = result.id + 1\n",
    "            if next_index not in final_indices and len(final_indices) + 1 <= n_neighbors:\n",
    "                final_indices.append([next_index, result.distance])\n",
    "\n",
    "    results = final_indices\n",
    "    \n",
    "    answer_chunks = []\n",
    "    for hit in results:\n",
    "        print(find_chunks(hit[0]))\n",
    "        answer_chunk = find_chunks(hit[0])\n",
    "        answer_chunks.append(answer_chunk['text'])\n",
    "    \n",
    "    return answer_chunks"
   ]
  },
  {
   "cell_type": "code",
   "execution_count": 89,
   "metadata": {},
   "outputs": [],
   "source": [
    "def find_chunks(id, path = \"Data/Internal/Company StIT/\"):\n",
    "    \"\"\"\n",
    "    Find the chunk based on the given id.\n",
    "    \"\"\"\n",
    "    global_indexing = json.load(open(\"global_indexing.json\", \"r\"))\n",
    "    for key, value in global_indexing.items():\n",
    "        start_idx = value[\"start\"]\n",
    "        end_idx = value[\"end\"]\n",
    "        if start_idx <= id <= end_idx:\n",
    "            index_in_file = id - start_idx\n",
    "            data_dict_file = json.load(open(path + key + \"_chunks.json\", \"r\"))\n",
    "            data_dict_file[\"chunk_\" + str(index_in_file)][\"document\"] = key + \".docx\"\n",
    "            return data_dict_file[\"chunk_\" + str(index_in_file)]\n",
    "    return None"
   ]
  },
  {
   "cell_type": "code",
   "execution_count": 90,
   "metadata": {},
   "outputs": [
    {
     "name": "stdout",
     "output_type": "stream",
     "text": [
      "{'text': \"technology industry, trends, and market dynamics. In-depth knowledge of the technology industry, trends, and market dynamics. 5. Experience in fundraising, mergers and acquisitions, and corporate governance. 6. Ability to inspire, motivate, and develop teams and individuals.  Education: Master of Business Administration (MBA) INSEAD, Fontainebleau, France Graduated: June 2008  Master of Science (MSc) in Computer Science École Normale Supérieure, Paris, France Graduated: June 2003  Work Experience: CEO StIT, Paris, France March 2015 - Present  1. Led the company's strategic direction, vision, and growth, resulting in a 5x increase in revenue and a successful Series C funding round. 2. Built and managed a high-performing executive team, fostering collaboration, accountability, and results. Built and managed a high-performing executive team, fostering collaboration, accountability, and results.\", 'page': 34, 'sentence_num': 2, 'sentences_page': 2, 'document': 'CV THOMAS LEFÈVRE.docx'}\n",
      "{'text': '[Thomas Lefèvre] [10 Place Vendôme] [Paris, 75001, France] [+33 7 11 22 33 44] [thomaslefevre@email.com]  Objective: Visionary and results-driven executive with over 15 years of experience in the technology industry. Proven track record of leading and growing companies, developing high-performing teams, and driving innovation and success. Seeking to leverage my strategic, operational, and leadership skills to excel in a new CEO role at StIT.  Skills:  1. Exceptional strategic thinking, planning, and decision-making abilities. 2. Strong operational and financial management expertise. 3. Excellent interpersonal, communication, and negotiation skills in French and English. 4. In-depth knowledge of the technology industry, trends, and market dynamics. In-depth knowledge of the technology industry, trends, and market dynamics.', 'page': 15, 'sentence_num': 2, 'sentences_page': 2, 'document': 'CV THOMAS LEFÈVRE.docx'}\n",
      "{'text': \"accountability, and results. Built and managed a high-performing executive team, fostering collaboration, accountability, and results. 3. Oversaw the development and launch of innovative technology products, driving customer adoption and market leadership. 4. Managed the company's financial performance, including budgeting, forecasting, and fundraising, ensuring financial sustainability and growth. 5. Cultivated strong relationships with customers, partners, and investors, driving business opportunities and growth.  COO InnoTech Group, Paris, France June 2008 - February 2015  1. Led the company's operations, including product development, marketing, sales, and customer support, driving efficiency, growth, and profitability. 2. Collaborated with the CEO and executive team to develop and execute the company's strategic plan and vision. 3. Oversaw the development and launch of technology products and solutions, ensuring high-quality, on-time, and on-budget delivery. Oversaw the development and launch of technology products and solutions, ensuring high-quality, on-time, and on-budget delivery.\", 'page': 45, 'sentence_num': 2, 'sentences_page': 2, 'document': 'CV THOMAS LEFÈVRE.docx'}\n",
      "{'text': '[Thomas Lefèvre] [10 Place Vendôme] [Paris, 75001, France] [+33 7 11 22 33 44] [thomaslefevre@email.com]  Objective: Visionary and results-driven executive with over 15 years of experience in the technology industry. Proven track record of leading and growing companies, developing high-performing teams, and driving innovation and success. Seeking to leverage my strategic, operational, and leadership skills to excel in a new CEO role at StIT.  Skills:  1. Exceptional strategic thinking, planning, and decision-making abilities. 2. Strong operational and financial management expertise. 3. Excellent interpersonal, communication, and negotiation skills in French and English. 4. In-depth knowledge of the technology industry, trends, and market dynamics. In-depth knowledge of the technology industry, trends, and market dynamics.', 'page': 15, 'sentence_num': 2, 'sentences_page': 2, 'document': 'CV THOMAS LEFÈVRE.docx'}\n",
      "{'text': \"implementation of HR initiatives and projects. Contribute to the development and implementation of HR initiatives and projects.  Internship: HR Intern Dynamo Consulting, Paris, France January 2021 - April 2021  1. Assisted in the recruitment and onboarding processes, including sourcing, screening, and interviewing candidates. 2. Supported the HR team in the administration of HR policies, procedures, and employee records. 3. Conducted research on HR best practices, French labor laws, and industry trends. 4. Gained valuable experience in the human resources field and developed a strong understanding of HR processes.  Certifications: HR Certification Institute (HRCI) - Associate Professional in Human Resources (aPHR) HR Certification Institute, Paris, France July 2021  Achievements: Top Performing Intern, 2021 - Dynamo Consulting Dean's List, 2019-2021 - ESCP Business School Dean's List, 2019-2021 - ESCP Business School\", 'page': 52, 'sentence_num': 1, 'sentences_page': 1, 'document': 'CV SOPHIE MOREAU.docx'}\n",
      "{'text': \"technology industry, trends, and market dynamics. In-depth knowledge of the technology industry, trends, and market dynamics. 5. Experience in fundraising, mergers and acquisitions, and corporate governance. 6. Ability to inspire, motivate, and develop teams and individuals.  Education: Master of Business Administration (MBA) INSEAD, Fontainebleau, France Graduated: June 2008  Master of Science (MSc) in Computer Science École Normale Supérieure, Paris, France Graduated: June 2003  Work Experience: CEO StIT, Paris, France March 2015 - Present  1. Led the company's strategic direction, vision, and growth, resulting in a 5x increase in revenue and a successful Series C funding round. 2. Built and managed a high-performing executive team, fostering collaboration, accountability, and results. Built and managed a high-performing executive team, fostering collaboration, accountability, and results.\", 'page': 34, 'sentence_num': 2, 'sentences_page': 2, 'document': 'CV THOMAS LEFÈVRE.docx'}\n",
      "{'text': \"accountability, and results. Built and managed a high-performing executive team, fostering collaboration, accountability, and results. 3. Oversaw the development and launch of innovative technology products, driving customer adoption and market leadership. 4. Managed the company's financial performance, including budgeting, forecasting, and fundraising, ensuring financial sustainability and growth. 5. Cultivated strong relationships with customers, partners, and investors, driving business opportunities and growth.  COO InnoTech Group, Paris, France June 2008 - February 2015  1. Led the company's operations, including product development, marketing, sales, and customer support, driving efficiency, growth, and profitability. 2. Collaborated with the CEO and executive team to develop and execute the company's strategic plan and vision. 3. Oversaw the development and launch of technology products and solutions, ensuring high-quality, on-time, and on-budget delivery. Oversaw the development and launch of technology products and solutions, ensuring high-quality, on-time, and on-budget delivery.\", 'page': 45, 'sentence_num': 2, 'sentences_page': 2, 'document': 'CV THOMAS LEFÈVRE.docx'}\n",
      "{'text': \"technology industry, trends, and market dynamics. In-depth knowledge of the technology industry, trends, and market dynamics. 5. Experience in fundraising, mergers and acquisitions, and corporate governance. 6. Ability to inspire, motivate, and develop teams and individuals.  Education: Master of Business Administration (MBA) INSEAD, Fontainebleau, France Graduated: June 2008  Master of Science (MSc) in Computer Science École Normale Supérieure, Paris, France Graduated: June 2003  Work Experience: CEO StIT, Paris, France March 2015 - Present  1. Led the company's strategic direction, vision, and growth, resulting in a 5x increase in revenue and a successful Series C funding round. 2. Built and managed a high-performing executive team, fostering collaboration, accountability, and results. Built and managed a high-performing executive team, fostering collaboration, accountability, and results.\", 'page': 34, 'sentence_num': 2, 'sentences_page': 2, 'document': 'CV THOMAS LEFÈVRE.docx'}\n",
      "{'text': \"Plan de développement stratégique sur 8 ans pour StIT  1. Vision : Devenir un leader mondial dans le développement de solutions logicielles innovantes et sécurisées pour les entreprises et les particuliers.  2. Mission : Fournir des solutions logicielles personnalisées et de haute qualité qui répondent aux besoins uniques de nos clients et les aident à atteindre leurs objectifs commerciaux et personnels.  3. Objectifs stratégiques :  a. Expansion du marché : Étendre la présence de StIT sur de nouveaux marchés et secteurs, tant au niveau national qu'international, en se concentrant sur les marchés à forte croissance et à fort potentiel.  b. Croissance des revenus : Augmenter les revenus de StIT en élargissant sa base de clients, en lançant de nouveaux produits et services et en améliorant ses processus de vente et de marketing. Croissance des revenus : Augmenter les revenus de StIT en élargissant sa base de clients, en lançant de nouveaux produits et services et en améliorant ses processus de vente et de marketing.\", 'page': 11, 'sentence_num': 2, 'sentences_page': 2, 'document': 'PLAN DE DÉVELOPPEMENT STRATÉGIQUE SUR 8 ANS POUR STIT.docx'}\n",
      "{'text': 'skills, experience, performance, and market value, and in avoiding any discrimination or bias in our compensation decisions. * Competitiveness: We believe in providing our employees with a competitive and attractive salary, based on the relevant market data and benchmarks, and in reviewing and adjusting our salary ranges and structures regularly to ensure that they remain competitive.  3. Our Salary Ranges and Structures:  Based on the different profiles and roles that we have at StIT, we have established the following salary ranges and structures:  * CEO: The salary range for our CEO is between $250,000 and $350,000 per year, based on the relevant market data and benchmarks, and subject to the approval of our board of directors. * COO: The salary range for our COO is between $150,000 and $250,000 per year, based on the relevant market data and benchmarks, and subject to the approval of our CEO. * COO: The salary range for our COO is between $150,000 and $250,000 per year, based on the relevant market data and benchmarks, and subject to the approval of our CEO.', 'page': 22, 'sentence_num': 1, 'sentences_page': 1, 'document': 'SALARY POLICY FOR STIT.docx'}\n"
     ]
    }
   ],
   "source": [
    "dispatch_agent(\"Something about the actual leader of the company\")"
   ]
  },
  {
   "cell_type": "code",
   "execution_count": 91,
   "metadata": {},
   "outputs": [],
   "source": [
    "# Function scanning the response from the LLM for a specific action call\n",
    "def scan_response(response):\n",
    "    # TODO : Implement the different cases for the different actions and run the corresponding agent\n",
    "    pass"
   ]
  }
 ],
 "metadata": {
  "language_info": {
   "name": "python"
  }
 },
 "nbformat": 4,
 "nbformat_minor": 2
}
