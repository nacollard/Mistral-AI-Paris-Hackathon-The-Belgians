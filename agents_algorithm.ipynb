{
   "cells": [
      {
         "cell_type": "code",
         "execution_count": 121,
         "metadata": {},
         "outputs": [
            {
               "data": {
                  "text/plain": [
                     "True"
                  ]
               },
               "execution_count": 121,
               "metadata": {},
               "output_type": "execute_result"
            }
         ],
         "source": [
            "from mistralai.client import MistralClient\n",
            "from mistralai.models.chat_completion import ChatMessage\n",
            "import os\n",
            "import cohere\n",
            "from dotenv import load_dotenv\n",
            "\n",
            "from docx import Document\n",
            "\n",
            "load_dotenv()  # take environment variables from .env."
         ]
      },
      {
         "cell_type": "code",
         "execution_count": 122,
         "metadata": {},
         "outputs": [],
         "source": [
            "def xml_retriever(xml_response, tag):\n",
            "    return xml_response.split('<'+tag+'>')[1].split('</'+tag+'>')[0]"
         ]
      },
      {
         "cell_type": "code",
         "execution_count": 123,
         "metadata": {},
         "outputs": [],
         "source": [
            "# Agent for News Analysis\n",
            "# Returns:\n",
            "# 1. The significance level of the news (High, Medium, Low)\n",
            "# 2. The main topic of the article\n",
            "def news_analyst_agent(article):\n",
            "    # TODO : Change the prompt\n",
            "    business_model = 'Data/Internal/Business Model de StIT.docx'\n",
            "    long_term_strategy = 'Data/Internal/Plan de développement stratégique sur 8 ans pour StIT.docx'\n",
            "    products_and_services = 'Data/Internal/Produits et services de StIT.docx'\n",
            "    company_docs = [business_model, long_term_strategy, products_and_services]\n",
            "    company_knowledge = ''\n",
            "    for doc in company_docs:\n",
            "        docx_document = Document(doc)\n",
            "        paragraphs_text = ' '.join([paragraph.text for paragraph in docx_document.paragraphs])\n",
            "        company_knowledge += paragraphs_text\n",
            "    prompt = \"\"\"\n",
            "                You are an experienced business analyst tasked with determining the priority level of news articles based on their relevance to your company, StIT.\n",
            "\n",
            "                Here is some crucial information about the company to consider during your analysis:\n",
            "                <company_knowledge>\"\"\"+company_knowledge +\"\"\"</company_knowledge>\n",
            "\n",
            "                Please thoroughly read and analyze the following news article:\n",
            "\n",
            "                <article>\"\"\"+article+\"\"\"</article>\n",
            "\n",
            "                In the <output> section, document your thoughts on the article's relevance to the company. Carefully consider how the main points and key details in the article relate to the provided company knowledge. Here are some guidelines on how to rank the priority level of the article:\n",
            "\n",
            "                * High priority: The article contains information that is highly relevant to the company's goals, operations, or industry, and has the potential to significantly impact the company in the near term. The article may discuss a major new development, a significant change in the regulatory or competitive landscape, or a major opportunity or threat for the company. The company's management and other stakeholders should be alerted to the article and its implications as soon as possible.\n",
            "                * Medium priority: The article contains information that is moderately relevant to the company's goals, operations, or industry, and has the potential to impact the company in the medium term. The article may discuss a new trend or development that is likely to affect the company's business, a change in the competitive landscape that is likely to have a moderate impact, or an opportunity or threat that is not yet fully formed. The company's management and other stakeholders should be aware of the article and its implications, and may want to monitor the situation or take some initial actions to address it.\n",
            "                * Low priority: The article contains information that is not highly relevant to the company's goals, operations, or industry, or is unlikely to have a significant impact on the company. The article may discuss a development that is not directly related to the company's business, a change in the competitive landscape that is unlikely to have a significant impact, or an opportunity or threat that is unlikely to materialize. The company's management and other stakeholders may want to be aware of the article, but it is not necessary to take any immediate actions to address it.\n",
            "\n",
            "                After completing your analysis, provide your final assessment in the <output> section, using the following format:\n",
            "\n",
            "                <output>\n",
            "                <priority_level>High OR Medium OR Low</priority_level>\n",
            "                <justification>A detailed explanation of your priority rating, including how the article's main points and key details relate to the company's goals, operations, or industry, and the potential implications and impact of the article on the company</justification>\n",
            "                <main_topic>A one-sentence summary highlighting the article's main topic<main_topic>\n",
            "                </output>\n",
            "\n",
            "                Remember, your goal is to help company management quickly identify and prioritize important news, so be sure to consider the key implications and potential impact of the article on the company in your priority rating and justification.\n",
            "            \"\"\"\n",
            "    api_key = \"M5aTzx5CYlozf6qywo77peiSahoeS6ja\"\n",
            "    model = \"mistral-large-latest\"\n",
            "\n",
            "    client = MistralClient(api_key=api_key)\n",
            "\n",
            "    messages = [\n",
            "        ChatMessage(role=\"system\", content=prompt),\n",
            "        ChatMessage(role=\"user\", content=\"Content of the article : \" + article)\n",
            "    ]\n",
            "    \n",
            "    chat_response = client.chat(\n",
            "        model=model,\n",
            "        messages=messages,\n",
            "    )\n",
            "    \n",
            "    xml_response = chat_response.choices[0].message.content\n",
            "    priority_level = xml_retriever(xml_response, 'priority_level')\n",
            "    justification = xml_retriever(xml_response, 'justification')\n",
            "    main_topic = xml_retriever(xml_response, 'main_topic')\n",
            "    \n",
            "    return priority_level, justification, main_topic\n"
         ]
      },
      {
         "cell_type": "code",
         "execution_count": 124,
         "metadata": {},
         "outputs": [],
         "source": [
            "# news_article1 = 'Data/External/News Articles/ New tax law in France aims to encourage and support the growth of startups and small businesses copy.docx'\n",
            "# news_article2 = 'Data/External/News Articles/Local bakery in Paris wins award for best croissant in the city copy.docx'\n",
            "# news_article3 = 'Data/External/News Articles/New survey finds that the majority of French people prefer to shop online rather than in-store copy.docx'\n",
            "# news_article4 = 'Data/External/News Articles/Global economic recession expected to impact the tech sector copy.docx'\n",
            "# news_article5 = 'Data/External/News Articles/Massive cyberattack exposes the vulnerabilities of businesses and organizations copy.docx'\n",
            "# news_articles = [news_article1, news_article2, news_article3, news_article4, news_article5]\n",
            "# for news_article in news_articles:\n",
            "#     docx_document = Document(news_article)\n",
            "#     paragraphs_text = ' '.join([paragraph.text for paragraph in docx_document.paragraphs])\n",
            "#     print(news_analyst_agent(paragraphs_text))"
         ]
      },
      {
         "cell_type": "code",
         "execution_count": 125,
         "metadata": {},
         "outputs": [],
         "source": [
            "def news_agent(article):\n",
            "    news_article1 = 'Data/External/News Articles/ New tax law in France aims to encourage and support the growth of startups and small businesses copy.docx'\n",
            "    \n",
            "    docx_document = Document(news_article1)\n",
            "    paragraphs_text = ' '.join([paragraph.text for paragraph in docx_document.paragraphs])\n",
            "    priority_level, justification, main_topic = news_analyst_agent(paragraphs_text)\n",
            "    \n",
            "    print(\"Priority Level: \", priority_level)\n",
            "    print(\"Justification: \", justification)\n",
            "    print(\"Main Topic: \", main_topic)\n",
            "        \n",
            "    dispatch_agent(main_topic, justification)"
         ]
      },
      {
         "cell_type": "code",
         "execution_count": 126,
         "metadata": {},
         "outputs": [],
         "source": [
            "import json\n",
            "\n",
            "# Agent that tells the user responsible to the text given\n",
            "def dispatch_agent(main_topic, justification):\n",
            "\n",
            "    results = internal_retriever_agent(main_topic)\n",
            "    co = cohere.Client(os.environ[\"COHERE_API_KEY\"])\n",
            "    rerank_prompt = \"Which of our employees should be informed about this matter ? The matter to be informed is about \" + main_topic\n",
            "    \n",
            "    response = co.rerank(\n",
            "                    model=\"rerank-english-v3.0\",\n",
            "                    query=' '.join(rerank_prompt),\n",
            "                    documents=results,\n",
            "                    top_n=7,\n",
            "                )\n",
            "    print(\"############\")\n",
            "    print(\"############\")\n",
            "    print(\"############\")\n",
            "    for el in response:\n",
            "        print(el)\n",
            "    return None"
         ]
      },
      {
         "cell_type": "code",
         "execution_count": 127,
         "metadata": {},
         "outputs": [],
         "source": [
            "from OpenRAG.src.openrag.chunk_vectorization.chunk_vectorization import get_vectorizer\n",
            "from OpenRAG.src.openrag.vectordb.milvus_adapter import init_milvus_connection\n",
            "from pymilvus import Collection\n",
            "\n",
            "# Agent to retrieve internal information\n",
            "# Returns:\n",
            "# 1. Several contexts linked to the provided text\n",
            "def internal_retriever_agent(text, filter='HR'):\n",
            "    vectorizer = get_vectorizer('mistral')\n",
            "    query_vector = vectorizer.vectorize(text)\n",
            "    \n",
            "    init_milvus_connection()\n",
            "    \n",
            "    collection_name = \"mistral_collection\"\n",
            "    collection = Collection(name=collection_name)\n",
            "    \n",
            "    n_neighbors = 20\n",
            "    results = collection.search([query_vector], \"vector\", param={\"metric_type\": \"L2\", \"params\":{}}, limit=n_neighbors, expr=\"source == '\"+filter+\"'\")\n",
            "    \n",
            "    final_indices = []\n",
            "    for result in results[0]:\n",
            "        if result.id not in final_indices and len(final_indices) + 1 <= n_neighbors:\n",
            "            final_indices.append([result.id, result.distance])\n",
            "            prev_index = result.id - 1\n",
            "            if prev_index >= 0 and prev_index not in final_indices and len(final_indices) + 1 <= n_neighbors and filter != 'HR':\n",
            "                final_indices.append([prev_index, result.distance])\n",
            "            next_index = result.id + 1\n",
            "            if next_index not in final_indices and len(final_indices) + 1 <= n_neighbors and filter != 'HR':\n",
            "                final_indices.append([next_index, result.distance])\n",
            "\n",
            "    results = final_indices\n",
            "    \n",
            "    answer_chunks = []\n",
            "    unique_chunks = []\n",
            "    for hit in results:\n",
            "        answer_chunk = find_chunks(hit[0])\n",
            "        if answer_chunk['document'] in unique_chunks and filter == 'HR':\n",
            "            continue\n",
            "        unique_chunks.append(answer_chunk['document'])\n",
            "        answer_chunks.append(answer_chunk['text'])\n",
            "        print(find_chunks(hit[0]))\n",
            "    \n",
            "    return answer_chunks"
         ]
      },
      {
         "cell_type": "code",
         "execution_count": 128,
         "metadata": {},
         "outputs": [],
         "source": [
            "def find_chunks(id, path = \"Data/Internal/HR/\"):\n",
            "    \"\"\"\n",
            "    Find the chunk based on the given id.\n",
            "    \"\"\"\n",
            "    global_indexing = json.load(open(\"global_indexing.json\", \"r\"))\n",
            "    for key, value in global_indexing.items():\n",
            "        start_idx = value[\"start\"]\n",
            "        end_idx = value[\"end\"]\n",
            "        if start_idx <= id <= end_idx:\n",
            "            index_in_file = id - start_idx\n",
            "            data_dict_file = json.load(open(path + key + \"_chunks.json\", \"r\"))\n",
            "            data_dict_file[\"chunk_\" + str(index_in_file)][\"document\"] = key + \".docx\"\n",
            "            data_dict_file[\"chunk_\" + str(index_in_file)][\"fullpath\"] = path + key + \".docx\"\n",
            "            return data_dict_file[\"chunk_\" + str(index_in_file)]\n",
            "    return None"
         ]
      },
      {
         "cell_type": "code",
         "execution_count": 130,
         "metadata": {},
         "outputs": [
            {
               "name": "stdout",
               "output_type": "stream",
               "text": [
                  "Priority Level:  Medium\n",
                  "Justification:  The article discusses a new tax law in France aimed at encouraging and supporting the growth of startups and small businesses. As StIT is a technology company based in France, this law could potentially benefit the company, especially if it is considered a startup or SME. The tax incentives, benefits, and reliefs mentioned, such as a reduction in corporate income tax and VAT rates, could positively impact StIT's financial situation. However, the article does not provide specific details on whether StIT meets the criteria for these benefits, so further investigation is needed. The potential impact on StIT's competitiveness, growth, and innovation could be significant if the company qualifies for these tax incentives.\n",
                  "Main Topic:  The French government has proposed a new tax law aiming to encourage and support the growth of startups and small businesses in the country.\n",
                  "{'text': \"technology industry, trends, and market dynamics. In-depth knowledge of the technology industry, trends, and market dynamics. 5. Experience in fundraising, mergers and acquisitions, and corporate governance. 6. Ability to inspire, motivate, and develop teams and individuals. Education: \\nMaster of Business Administration (MBA) \\nINSEAD, Fontainebleau, France \\nGraduated: June 2008 \\n \\nMaster of Science (MSc) in Computer Science \\nÉcole Normale Supérieure, Paris, France \\nGraduated: June 2003 \\n \\nWork Experience: \\nCEO \\nStIT, Paris, France \\nMarch 2015 - Present \\n \\n1. Led the company's strategic direction, vision, and growth, resulting in a 5x increase in \\nrevenue and a successful Series C funding round. Led the company's strategic direction, vision, and growth, resulting in a 5x increase in \\nrevenue and a successful Series C funding round.\", 'page': 1, 'sentence_num': 17, 'sentences_page': 26, 'document': 'CV THOMAS LEFÈVRE.docx', 'fullpath': 'Data/Internal/HR/CV THOMAS LEFÈVRE.docx'}\n",
                  "{'text': \"decision-making abilities. 3. Excellent interpersonal, communication, and negotiation skills in French and English. 4. 4. In-depth knowledge of the technology industry, trends, and market dynamics. 5. Experience in fundraising, mergers and acquisitions, and corporate governance. 6. Ability to inspire, motivate, and develop teams and individuals. Education: \\nMaster of Business Administration (MBA) \\nINSEAD, Fontainebleau, France \\nGraduated: June 2008 \\n \\nMaster of Science (MSc) in Finance \\nESCP Europe, Paris, France \\nGraduated: June 2003 \\n \\nWork Experience: \\nCFO \\nStIT, Paris, France \\nMarch 2015 - Present \\n \\n1. Led the company's ﬁnance and accounting strategy, vision, and execution, driving \\nbusiness growth and proﬁtability. Led the company's ﬁnance and accounting strategy, vision, and execution, driving \\nbusiness growth and proﬁtability.\", 'page': 1, 'sentence_num': 17, 'sentences_page': 26, 'document': 'CV JEAN MASSART.docx', 'fullpath': 'Data/Internal/HR/CV JEAN MASSART.docx'}\n",
                  "{'text': 'recruitment process, including sourcing, screening, and \\ninterviewing candidates, ensuring a diverse and talented talent pipeline. 3. Coordinated onboarding, training, and development programs, fostering employee \\ngrowth and career progression. 4. Handled employee relations issues, performance management, and disciplinary \\nactions, in accordance with French labor laws and company policies. 5. Maintained accurate and up-to-date HR records, reports, and analytics, supporting \\ninformed decision-making. Certifications: \\nHR Certification Institute (HRCI) - Senior Professional in Human Resources (SPHR) \\nHR Certification Institute, Paris, France \\nMarch 2019 \\n \\nAchievements: \\nTop HR Performer, 2018 & 2021 - TechForce \\nHR Innovation Award, 2016 - InnoTech Solutions \\n \\nReferences: \\nAvailable upon request. Certifications: \\nHR Certification Institute (HRCI) - Senior Professional in Human Resources (SPHR) \\nHR Certification Institute, Paris, France \\nMarch 2019 \\n \\nAchievements: \\nTop HR Performer, 2018 & 2021 - TechForce \\nHR Innovation Award, 2016 - InnoTech Solutions \\n \\nReferences: \\nAvailable upon request.', 'page': 2, 'sentence_num': 11, 'sentences_page': 12, 'document': 'CV ISABELLE LECLERC.docx', 'fullpath': 'Data/Internal/HR/CV ISABELLE LECLERC.docx'}\n",
                  "{'text': \"thinking, planning, and decision-making abilities. Exceptional strategic thinking, planning, and decision-making abilities. 3. Excellent interpersonal, communication, and negotiation skills in French and English. 4. In-depth knowledge of the technology industry, trends, and market dynamics. 5. Experience in Agile methodologies, DevOps, and cloud computing. 6. Ability to inspire, motivate, and develop teams and individuals. Education: \\nMaster of Science (MSc) in Computer Science \\nÉcole Normale Supérieure, Paris, France \\nGraduated: June 2006 \\n \\nWork Experience: \\nCTO \\nStIT, Paris, France \\nMarch 2017 - Present \\n \\n1. Led the company's engineering and technology strategy, vision, and execution, \\ndriving innovation and product success. 2. Built and managed a high-performing engineering team, fostering a culture of \\nexcellence, collaboration, and learning. Built and managed a high-performing engineering team, fostering a culture of \\nexcellence, collaboration, and learning.\", 'page': 1, 'sentence_num': 19, 'sentences_page': 26, 'document': 'CV FRANÇOIS ROUSSEAU.docx', 'fullpath': 'Data/Internal/HR/CV FRANÇOIS ROUSSEAU.docx'}\n",
                  "{'text': 'Office Suite. 4. Knowledge of French labor laws and HR best practices. Knowledge of French labor laws and HR best practices. 5. Experience in full-cycle recruitment and onboarding processes. 6. Self-motivated, goal-oriented, and able to work in a fast-paced environment. Education: \\nMaster of Science (MSc) in Human Resources Management \\nESCP Business School, Paris, France \\nGraduated: June 2021 \\n \\nWork Experience: \\nHR Assistant \\nStIT, Paris, France \\nSeptember 2021 - Present \\n \\n1. Assist in the full-cycle recruitment process, including sourcing, screening, and \\ninterviewing candidates. 2. Collaborate with hiring managers to identify staffing needs and develop job \\ndescriptions. 3. Support the onboarding and offboarding processes, ensuring a smooth transition for \\nnew and departing employees. Support the onboarding and offboarding processes, ensuring a smooth transition for \\nnew and departing employees.', 'page': 1, 'sentence_num': 20, 'sentences_page': 25, 'document': 'CV SOPHIE MOREAU.docx', 'fullpath': 'Data/Internal/HR/CV SOPHIE MOREAU.docx'}\n",
                  "{'text': \"business. Collaborate with the customer service team to ensure a high level of client \\nsatisfaction and repeat business. 5. Maintain an up-to-date CRM system, tracking all sales activities, and generating \\nregular reports for senior management. Internship: \\nBusiness Development Intern \\nStIT, Paris, FR \\nJanuary 2021 - April 2021 1. Assisted in the identification and pursuit of new business opportunities in the \\ntechnology sector. 2. Conducted market research and competitive analysis to inform sales strategies and \\ntactics. 3. Supported the sales team in lead generation, cold calling, and the preparation of \\nsales materials. 4. Gained valuable experience in the technology industry and developed a strong \\nunderstanding of the sales and marketing processes. Certifications: \\nDigital Marketing Certification \\nGoogle Digital Garage, Seattle, WA \\nJuly 2021 \\n \\nAchievements: \\nTop Performing Intern, 2021 - InnoTech Solutions \\nDean's List, 2018-2021 - University of Washington \\n \\nReferences: \\nAvailable upon request. Certifications: \\nDigital Marketing Certification \\nGoogle Digital Garage, Seattle, WA \\nJuly 2021 \\n \\nAchievements: \\nTop Performing Intern, 2021 - InnoTech Solutions \\nDean's List, 2018-2021 - University of Washington \\n \\nReferences: \\nAvailable upon request.\", 'page': 2, 'sentence_num': 9, 'sentences_page': 10, 'document': 'CV MICHAEL ADAMS.docx', 'fullpath': 'Data/Internal/HR/CV MICHAEL ADAMS.docx'}\n",
                  "{'text': '[Jeanne D’Arc] \\n[42 Avenue Montaigne] \\n[Paris, 75008, France] \\n[+33 6 55 44 33 22] \\n[jeannedarc@email.com] \\n \\nObjective: \\nDynamic and results-driven executive with over 12 years of experience in the technology \\nindustry. Proven track record of leading and optimizing operations, driving growth and \\nprofitability, and fostering a culture of innovation and excellence. Seeking to leverage \\nmy strategic, operational, and leadership skills to excel in a new COO role at StIT. Skills: \\n \\n1. Strong strategic thinking, planning, and decision-making abilities. 2. Exceptional operational and project management expertise. 3. Excellent interpersonal, communication, and negotiation skills in French and English. 4. In-depth knowledge of the technology industry, trends, and market dynamics. In-depth knowledge of the technology industry, trends, and market dynamics.', 'page': 1, 'sentence_num': 11, 'sentences_page': 26, 'document': \"CV JEANNE D'ARC.docx\", 'fullpath': \"Data/Internal/HR/CV JEANNE D'ARC.docx\"}\n",
                  "{'text': 'Alexandre Durand \\n60 Rue La Boétie \\nParis, 75008, France \\n+33 7 66 55 44 33 \\nalexandredurand@email.com \\n \\nObjective: \\nInnovative and results-driven product lead with over 8 years of experience in the \\ntechnology industry. Proven track record of successfully launching products, managing \\ncross-functional teams, and driving product growth and adoption. Seeking to leverage \\nmy skills and expertise to excel in a new Product Lead role at StIT. Skills: \\n \\n1. Excellent interpersonal, communication, and leadership skills in French and English. 2. Strong strategic thinking, problem-solving, and decision-making abilities. 3. Proficient in product management tools (Jira, Confluence, Trello) and Microsoft Office \\nSuite. 4. 4.', 'page': 1, 'sentence_num': 10, 'sentences_page': 26, 'document': 'CV ALEXANDRE DURAND.docx', 'fullpath': 'Data/Internal/HR/CV ALEXANDRE DURAND.docx'}\n",
                  "{'text': 'and Microsoft Office \\nSuite. Proficient in product development tools (Git, Jenkins, Docker) and Microsoft Office \\nSuite. 4. In-depth knowledge of Agile methodologies, DevOps, and software development best \\npractices. 5. Experience in product architecture, design, and development. 6. Excellent interpersonal, communication, and leadership skills in French and English. Education: \\nMaster of Science (MSc) in Computer Science \\nÉcole Polytechnique, Paris, France \\nGraduated: June 2011 \\n \\nWork Experience: \\nSenior Product Developer \\nStIT, Paris, France \\nMarch 2017 - Present \\n \\n1. Led the development of innovative technology products, ensuring high-quality, \\nscalability, and performance. 2. Collaborated with product managers, designers, and other stakeholders to define \\nproduct requirements and roadmaps. Collaborated with product managers, designers, and other stakeholders to define \\nproduct requirements and roadmaps.', 'page': 1, 'sentence_num': 19, 'sentences_page': 26, 'document': 'CV LAURENT BERNARD.docx', 'fullpath': 'Data/Internal/HR/CV LAURENT BERNARD.docx'}\n",
                  "{'text': \"Experience in developing and executing targeted sales campaigns. Experience in developing and executing targeted sales campaigns. 6. Self-motivated, goal-oriented, and able to work in a fast-paced environment. Education: \\nBachelor of Science (BS) in Business Administration \\nBoston University, Boston, MA \\nGraduated: May 2019 \\n \\nWork Experience: \\nBusiness Development Associate \\nStIT, Paris, FR \\nJuly 2019 - Present \\n \\n1. Conducted extensive market research and analysis to identify potential business \\nopportunities in the IT sector. 2. Successfully expanded the company's client base by 20% through cold calling, email \\noutreach, and networking at industry events. 3. Collaborated with the marketing team to develop and execute targeted sales \\ncampaigns, resulting in a 15% increase in lead generation. Collaborated with the marketing team to develop and execute targeted sales \\ncampaigns, resulting in a 15% increase in lead generation.\", 'page': 1, 'sentence_num': 21, 'sentences_page': 26, 'document': 'CV JANE SMITH.docx', 'fullpath': 'Data/Internal/HR/CV JANE SMITH.docx'}\n"
               ]
            }
         ],
         "source": [
            "news_agent(\"test\")"
         ]
      }
   ],
   "metadata": {
      "kernelspec": {
         "display_name": "Python 3",
         "language": "python",
         "name": "python3"
      },
      "language_info": {
         "codemirror_mode": {
            "name": "ipython",
            "version": 3
         },
         "file_extension": ".py",
         "mimetype": "text/x-python",
         "name": "python",
         "nbconvert_exporter": "python",
         "pygments_lexer": "ipython3",
         "version": "3.9.6"
      }
   },
   "nbformat": 4,
   "nbformat_minor": 2
}
