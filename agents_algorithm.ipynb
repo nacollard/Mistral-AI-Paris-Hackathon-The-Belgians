{
 "cells": [
  {
   "cell_type": "code",
   "execution_count": 7,
   "metadata": {},
   "outputs": [],
   "source": [
    "from mistralai.client import MistralClient\n",
    "from mistralai.models.chat_completion import ChatMessage\n",
    "import os"
   ]
  },
  {
   "cell_type": "code",
   "execution_count": 8,
   "metadata": {},
   "outputs": [],
   "source": [
    "# Agent for News Analysis\n",
    "# Returns:\n",
    "# 1. The significance level of the news (High, Medium, Low)\n",
    "# 2. The main topic of the article\n",
    "def news_analyst_agent(article):\n",
    "    # TODO : Change the prompt\n",
    "    prompt = \"Fill here the prompt you want to use to analyze the news\"\n",
    "    \n",
    "    api_key = os.environ[\"MISTRAL_API_KEY\"]\n",
    "    model = \"mistral-large-latest\"\n",
    "\n",
    "    client = MistralClient(api_key=api_key)\n",
    "\n",
    "    messages = [\n",
    "        ChatMessage(role=\"system\", content=prompt),\n",
    "        ChatMessage(role=\"user\", content=\"Content of the article : \" + article)\n",
    "    ]\n",
    "    \n",
    "    chat_response = client.chat(\n",
    "        model=model,\n",
    "        messages=messages,\n",
    "    )\n",
    "\n",
    "    print(chat_response.choices[0].message.content)"
   ]
  },
  {
   "cell_type": "code",
   "execution_count": 10,
   "metadata": {},
   "outputs": [],
   "source": [
    "# Agent to retrieve internal information\n",
    "# Returns:\n",
    "# 1. Several contexts linked to the provided text\n",
    "def internal_retriever_agent(text):\n",
    "    # TODO : Make a request on the VectorDB\n",
    "    pass"
   ]
  },
  {
   "cell_type": "code",
   "execution_count": null,
   "metadata": {},
   "outputs": [],
   "source": [
    "# Function scanning the response from the LLM for a specific action call\n",
    "def scan_response(response):\n",
    "    # TODO : Implement the different cases for the different actions and run the corresponding agent"
   ]
  }
 ],
 "metadata": {
  "language_info": {
   "name": "python"
  }
 },
 "nbformat": 4,
 "nbformat_minor": 2
}
