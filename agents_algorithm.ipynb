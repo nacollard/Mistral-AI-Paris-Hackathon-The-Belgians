{
   "cells": [
      {
         "cell_type": "code",
         "execution_count": 17,
         "metadata": {},
         "outputs": [],
         "source": [
            "from mistralai.client import MistralClient\n",
            "from mistralai.models.chat_completion import ChatMessage\n",
            "import os\n",
            "from dotenv import load_dotenv\n",
            "\n",
            "from docx import Document"
         ]
      },
      {
         "cell_type": "code",
         "execution_count": 18,
         "metadata": {},
         "outputs": [],
         "source": [
            "def xml_retriever(xml_response, tag):\n",
            "    return xml_response.split('<'+tag+'>')[1].split('</'+tag+'>')[0]"
         ]
      },
      {
         "cell_type": "code",
         "execution_count": 19,
         "metadata": {},
         "outputs": [],
         "source": [
            "# Agent for News Analysis\n",
            "# Returns:\n",
            "# 1. The significance level of the news (High, Medium, Low)\n",
            "# 2. The main topic of the article\n",
            "def news_analyst_agent(article):\n",
            "    # TODO : Change the prompt\n",
            "    business_model = 'Data/Internal/Company StIT/Business Model de StIT.docx'\n",
            "    long_term_strategy = 'Data/Internal/Company StIT/Plan de développement stratégique sur 8 ans pour StIT.docx'\n",
            "    products_and_services = 'Data/Internal/Company StIT/Produits et services de StIT.docx'\n",
            "    company_docs = [business_model, long_term_strategy, products_and_services]\n",
            "    company_knowledge = ''\n",
            "    for doc in company_docs:\n",
            "        docx_document = Document(doc)\n",
            "        paragraphs_text = ' '.join([paragraph.text for paragraph in docx_document.paragraphs])\n",
            "        company_knowledge += paragraphs_text\n",
            "    prompt = \"\"\"\n",
            "                You are an experienced business analyst tasked with determining the priority level of news articles based on their relevance to your company, StIT.\n",
            "\n",
            "                Here is some crucial information about the company to consider during your analysis:\n",
            "                <company_knowledge>\"\"\"+company_knowledge +\"\"\"</company_knowledge>\n",
            "\n",
            "                Please thoroughly read and analyze the following news article:\n",
            "\n",
            "                <article>\"\"\"+article+\"\"\"</article>\n",
            "\n",
            "                In the <output> section, document your thoughts on the article's relevance to the company. Carefully consider how the main points and key details in the article relate to the provided company knowledge. Here are some guidelines on how to rank the priority level of the article:\n",
            "\n",
            "                * High priority: The article contains information that is highly relevant to the company's goals, operations, or industry, and has the potential to significantly impact the company in the near term. The article may discuss a major new development, a significant change in the regulatory or competitive landscape, or a major opportunity or threat for the company. The company's management and other stakeholders should be alerted to the article and its implications as soon as possible.\n",
            "                * Medium priority: The article contains information that is moderately relevant to the company's goals, operations, or industry, and has the potential to impact the company in the medium term. The article may discuss a new trend or development that is likely to affect the company's business, a change in the competitive landscape that is likely to have a moderate impact, or an opportunity or threat that is not yet fully formed. The company's management and other stakeholders should be aware of the article and its implications, and may want to monitor the situation or take some initial actions to address it.\n",
            "                * Low priority: The article contains information that is not highly relevant to the company's goals, operations, or industry, or is unlikely to have a significant impact on the company. The article may discuss a development that is not directly related to the company's business, a change in the competitive landscape that is unlikely to have a significant impact, or an opportunity or threat that is unlikely to materialize. The company's management and other stakeholders may want to be aware of the article, but it is not necessary to take any immediate actions to address it.\n",
            "\n",
            "                After completing your analysis, provide your final assessment in the <output> section, using the following format:\n",
            "\n",
            "                <output>\n",
            "                <priority_level>High OR Medium OR Low</priority_level>\n",
            "                <justification>A detailed explanation of your priority rating, including how the article's main points and key details relate to the company's goals, operations, or industry, and the potential implications and impact of the article on the company</justification>\n",
            "                <main_topic>A one-sentence summary highlighting the article's main topic<main_topic>\n",
            "                </output>\n",
            "\n",
            "                Remember, your goal is to help company management quickly identify and prioritize important news, so be sure to consider the key implications and potential impact of the article on the company in your priority rating and justification.\n",
            "            \"\"\"\n",
            "    api_key = \"M5aTzx5CYlozf6qywo77peiSahoeS6ja\"\n",
            "    model = \"mistral-large-latest\"\n",
            "\n",
            "    client = MistralClient(api_key=api_key)\n",
            "\n",
            "    messages = [\n",
            "        ChatMessage(role=\"system\", content=prompt),\n",
            "        ChatMessage(role=\"user\", content=\"Content of the article : \" + article)\n",
            "    ]\n",
            "    \n",
            "    chat_response = client.chat(\n",
            "        model=model,\n",
            "        messages=messages,\n",
            "    )\n",
            "    \n",
            "    xml_response = chat_response.choices[0].message.content\n",
            "    priority_level = xml_retriever(xml_response, 'priority_level')\n",
            "    justification = xml_retriever(xml_response, 'justification')\n",
            "    main_topic = xml_retriever(xml_response, 'main_topic')\n",
            "    \n",
            "    return priority_level, justification, main_topic\n"
         ]
      },
      {
         "cell_type": "code",
         "execution_count": 20,
         "metadata": {},
         "outputs": [
            {
               "name": "stdout",
               "output_type": "stream",
               "text": [
                  "('Medium', \"The article discusses a new tax law proposal in France aimed at encouraging and supporting the growth of startups and small businesses. As StIT is a technology company based in France, this tax law could potentially impact its financial situation if it is approved and enacted. The proposed reduction in corporate income tax rate and potential exemption from social security contributions for hiring new employees could benefit StIT, allowing for more funds to be allocated towards research and development, expansion, or other strategic initiatives. However, as the law is not yet enacted and the specific eligibility criteria for these benefits are not detailed in the article, it is difficult to determine the exact impact on StIT. The company's management should be aware of this potential development and monitor the progress of the tax law proposal.\", 'The French government has proposed a new tax law aimed at supporting the growth of startups and small businesses through various tax incentives and benefits.')\n",
                  "('Low', \"The article discusses a local bakery in Paris winning an award for the best croissant in the city. While it is a positive news story, it does not have any direct relevance to StIT's goals, operations, or industry. StIT is a technology company focused on providing software solutions and services to businesses and individuals, and the news about a local bakery winning an award for its croissants does not have any significant implications or potential impact on StIT's business.\", 'A local bakery in Paris wins an award for the best croissant in the city.')\n",
                  "('Medium', \"The article discusses a trend that is likely to affect StIT's business in the medium term, as the company offers software solutions to various sectors, including retail. The increasing preference for online shopping among French people will impact the retail sector, which is one of StIT's target segments. This trend could lead to higher demand for StIT's e-commerce and digital marketing solutions, as well as its software products that enhance the security, reliability, and efficiency of online shopping. Additionally, the article highlights the need for a more proactive, innovative, and responsible approach to e-commerce and digital marketing, which aligns with StIT's focus on innovation and commitment to protecting its clients' digital assets. However, the article does not discuss any major new development or significant change in the regulatory or competitive landscape that would require immediate attention from StIT's management.\", 'A new survey reveals that the majority of French people prefer online shopping to in-store shopping, a trend that is expected to have implications for companies and organizations in the country.')\n",
                  "('Medium', \"The article discusses the expected impact of a global economic recession on the tech sector, which is highly relevant to StIT's industry. As a company operating within the tech sector, StIT may face potential challenges such as a decrease in consumer and business spending on tech products and services, reduced availability of credit and financing, and a decline in the demand for and value of tech-related assets. These factors could impact StIT's revenue, growth, and investment plans. However, the exact impact on StIT would depend on various factors such as the company's resilience, the maturity of the tech industry in its region, and the effectiveness of policy responses. Therefore, it is important for StIT's management to be aware of this potential threat and monitor the situation closely to take necessary actions if required.\", 'A new report predicts that the global economic recession will negatively impact the tech sector, causing declines in growth, revenue, and investment.')\n",
                  "('High', \"This article describes a massive cyberattack that has affected a wide range of businesses and organizations, resulting in the theft, destruction, and encryption of sensitive and confidential information. Given that StIT is a technology company that provides software solutions to businesses and individuals, it is highly vulnerable to such cyber threats. The article highlights the need for a more proactive, comprehensive, and collaborative approach to cybersecurity, which aligns with StIT's commitment to protecting its clients' data and information. The potential implications of this article for StIT are significant, as a cyberattack could result in the loss of sensitive data, damage to the company's reputation, and potential legal liabilities. Therefore, it is essential that StIT's management and other stakeholders are alerted to this article and its implications as soon as possible to ensure that appropriate measures are taken to prevent, detect, and respond to cyber threats and incidents.\", 'A massive cyberattack has exposed the vulnerabilities and weaknesses of businesses and organizations in the area of cybersecurity, highlighting the need for a more proactive, comprehensive, and collaborative approach to the prevention, detection, and response to cyber threats and incidents.')\n"
               ]
            }
         ],
         "source": [
            "news_article1 = 'Data/External/News Articles/ New tax law in France aims to encourage and support the growth of startups and small businesses copy.docx'\n",
            "news_article2 = 'Data/External/News Articles/Local bakery in Paris wins award for best croissant in the city copy.docx'\n",
            "news_article3 = 'Data/External/News Articles/New survey finds that the majority of French people prefer to shop online rather than in-store copy.docx'\n",
            "news_article4 = 'Data/External/News Articles/Global economic recession expected to impact the tech sector copy.docx'\n",
            "news_article5 = 'Data/External/News Articles/Massive cyberattack exposes the vulnerabilities of businesses and organizations copy.docx'\n",
            "news_articles = [news_article1, news_article2, news_article3, news_article4, news_article5]\n",
            "for news_article in news_articles:\n",
            "    docx_document = Document(news_article)\n",
            "    paragraphs_text = ' '.join([paragraph.text for paragraph in docx_document.paragraphs])\n",
            "    print(news_analyst_agent(paragraphs_text))"
         ]
      },
      {
         "cell_type": "code",
         "execution_count": 21,
         "metadata": {},
         "outputs": [],
         "source": [
            "def news_agent(article):\n",
            "    news_article1 = 'Data/External/News Articles/ New tax law in France aims to encourage and support the growth of startups and small businesses copy.docx'\n",
            "    \n",
            "    docx_document = Document(news_article1)\n",
            "    paragraphs_text = ' '.join([paragraph.text for paragraph in docx_document.paragraphs])\n",
            "    priority_level, justification, main_topic = news_analyst_agent(paragraphs_text)\n",
            "    \n",
            "    print(\"Priority Level: \", priority_level)\n",
            "    print(\"Justification: \", justification)\n",
            "    print(\"Main Topic: \", main_topic)\n",
            "        \n",
            "    dispatch_agent(main_topic)"
         ]
      },
      {
         "cell_type": "code",
         "execution_count": 22,
         "metadata": {},
         "outputs": [],
         "source": [
            "import json\n",
            "\n",
            "# Agent that tells the user responsible to the text given\n",
            "def dispatch_agent(text):\n",
            "    results = internal_retriever_agent(text)\n",
            "    \n",
            "    return None"
         ]
      },
      {
         "cell_type": "code",
         "execution_count": 23,
         "metadata": {},
         "outputs": [],
         "source": [
            "from OpenRAG.src.openrag.chunk_vectorization.chunk_vectorization import get_vectorizer\n",
            "from OpenRAG.src.openrag.vectordb.milvus_adapter import init_milvus_connection\n",
            "from pymilvus import Collection\n",
            "\n",
            "# Agent to retrieve internal information\n",
            "# Returns:\n",
            "# 1. Several contexts linked to the provided text\n",
            "def internal_retriever_agent(text):\n",
            "    vectorizer = get_vectorizer('mistral')\n",
            "    query_vector = vectorizer.vectorize(text)\n",
            "    \n",
            "    init_milvus_connection()\n",
            "    \n",
            "    collection_name = \"mistral_collection\"\n",
            "    collection = Collection(name=collection_name)\n",
            "    \n",
            "    n_neighbors = 10\n",
            "    results = collection.search([query_vector], \"vector\", param={\"metric_type\": \"L2\", \"params\":{}}, limit=n_neighbors, expr=\"source == 'Internal'\")\n",
            "    \n",
            "    final_indices = []\n",
            "    for result in results[0]:\n",
            "        if result.id not in final_indices and len(final_indices) + 1 <= n_neighbors:\n",
            "            final_indices.append([result.id, result.distance])\n",
            "            prev_index = result.id - 1\n",
            "            if prev_index >= 0 and prev_index not in final_indices and len(final_indices) + 1 <= n_neighbors:\n",
            "                final_indices.append([prev_index, result.distance])\n",
            "            next_index = result.id + 1\n",
            "            if next_index not in final_indices and len(final_indices) + 1 <= n_neighbors:\n",
            "                final_indices.append([next_index, result.distance])\n",
            "\n",
            "    results = final_indices\n",
            "    \n",
            "    answer_chunks = []\n",
            "    for hit in results:\n",
            "        print(find_chunks(hit[0]))\n",
            "        answer_chunk = find_chunks(hit[0])\n",
            "        answer_chunks.append(answer_chunk['text'])\n",
            "    \n",
            "    return answer_chunks"
         ]
      },
      {
         "cell_type": "code",
         "execution_count": 24,
         "metadata": {},
         "outputs": [],
         "source": [
            "def find_chunks(id, path = \"Data/Internal/Company StIT/\"):\n",
            "    \"\"\"\n",
            "    Find the chunk based on the given id.\n",
            "    \"\"\"\n",
            "    global_indexing = json.load(open(\"global_indexing.json\", \"r\"))\n",
            "    for key, value in global_indexing.items():\n",
            "        start_idx = value[\"start\"]\n",
            "        end_idx = value[\"end\"]\n",
            "        if start_idx <= id <= end_idx:\n",
            "            index_in_file = id - start_idx\n",
            "            data_dict_file = json.load(open(path + key + \"_chunks.json\", \"r\"))\n",
            "            data_dict_file[\"chunk_\" + str(index_in_file)][\"document\"] = key + \".docx\"\n",
            "            return data_dict_file[\"chunk_\" + str(index_in_file)]\n",
            "    return None"
         ]
      },
      {
         "cell_type": "code",
         "execution_count": 25,
         "metadata": {},
         "outputs": [],
         "source": [
            "# Function scanning the response from the LLM for a specific action call\n",
            "def scan_response(response):\n",
            "    # TODO : Implement the different cases for the different actions and run the corresponding agent\n",
            "    pass"
         ]
      },
      {
         "cell_type": "code",
         "execution_count": 28,
         "metadata": {},
         "outputs": [
            {
               "name": "stdout",
               "output_type": "stream",
               "text": [
                  "Priority Level:  Medium\n",
                  "Justification:  The article discusses a new tax law proposed in France that aims to support the growth of startups and small businesses. As StIT is a technology company based in France, this tax law could potentially benefit the company if it is approved and enacted. The reduction in corporate income tax rate and value-added tax (VAT) rate could help StIT save on its tax expenses, while the exemption from social security contributions for hiring new employees could help the company reduce its labor costs. These benefits could contribute to the improvement of StIT's competitiveness, growth, and innovation. However, as the tax law is not yet approved, the company should monitor the situation and be prepared to take advantage of the benefits if the law is enacted.\n",
                  "Main Topic:  New tax law proposed in France to encourage and support the growth of startups and small businesses.\n"
               ]
            },
            {
               "ename": "KeyError",
               "evalue": "'MILVUS_HOST'",
               "output_type": "error",
               "traceback": [
                  "\u001b[0;31m---------------------------------------------------------------------------\u001b[0m",
                  "\u001b[0;31mKeyError\u001b[0m                                  Traceback (most recent call last)",
                  "Cell \u001b[0;32mIn[28], line 1\u001b[0m\n\u001b[0;32m----> 1\u001b[0m \u001b[43mnews_agent\u001b[49m\u001b[43m(\u001b[49m\u001b[38;5;124;43m\"\u001b[39;49m\u001b[38;5;124;43mtest\u001b[39;49m\u001b[38;5;124;43m\"\u001b[39;49m\u001b[43m)\u001b[49m\n",
                  "Cell \u001b[0;32mIn[21], line 12\u001b[0m, in \u001b[0;36mnews_agent\u001b[0;34m(article)\u001b[0m\n\u001b[1;32m      9\u001b[0m \u001b[38;5;28mprint\u001b[39m(\u001b[38;5;124m\"\u001b[39m\u001b[38;5;124mJustification: \u001b[39m\u001b[38;5;124m\"\u001b[39m, justification)\n\u001b[1;32m     10\u001b[0m \u001b[38;5;28mprint\u001b[39m(\u001b[38;5;124m\"\u001b[39m\u001b[38;5;124mMain Topic: \u001b[39m\u001b[38;5;124m\"\u001b[39m, main_topic)\n\u001b[0;32m---> 12\u001b[0m \u001b[43mdispatch_agent\u001b[49m\u001b[43m(\u001b[49m\u001b[43mmain_topic\u001b[49m\u001b[43m)\u001b[49m\n",
                  "Cell \u001b[0;32mIn[22], line 5\u001b[0m, in \u001b[0;36mdispatch_agent\u001b[0;34m(text)\u001b[0m\n\u001b[1;32m      4\u001b[0m \u001b[38;5;28;01mdef\u001b[39;00m \u001b[38;5;21mdispatch_agent\u001b[39m(text):\n\u001b[0;32m----> 5\u001b[0m     results \u001b[38;5;241m=\u001b[39m \u001b[43minternal_retriever_agent\u001b[49m\u001b[43m(\u001b[49m\u001b[43mtext\u001b[49m\u001b[43m)\u001b[49m\n\u001b[1;32m      7\u001b[0m     \u001b[38;5;28;01mreturn\u001b[39;00m \u001b[38;5;28;01mNone\u001b[39;00m\n",
                  "Cell \u001b[0;32mIn[23], line 12\u001b[0m, in \u001b[0;36minternal_retriever_agent\u001b[0;34m(text)\u001b[0m\n\u001b[1;32m      9\u001b[0m vectorizer \u001b[38;5;241m=\u001b[39m get_vectorizer(\u001b[38;5;124m'\u001b[39m\u001b[38;5;124mmistral\u001b[39m\u001b[38;5;124m'\u001b[39m)\n\u001b[1;32m     10\u001b[0m query_vector \u001b[38;5;241m=\u001b[39m vectorizer\u001b[38;5;241m.\u001b[39mvectorize(text)\n\u001b[0;32m---> 12\u001b[0m \u001b[43minit_milvus_connection\u001b[49m\u001b[43m(\u001b[49m\u001b[43m)\u001b[49m\n\u001b[1;32m     14\u001b[0m collection_name \u001b[38;5;241m=\u001b[39m \u001b[38;5;124m\"\u001b[39m\u001b[38;5;124mmistral_collection\u001b[39m\u001b[38;5;124m\"\u001b[39m\n\u001b[1;32m     15\u001b[0m collection \u001b[38;5;241m=\u001b[39m Collection(name\u001b[38;5;241m=\u001b[39mcollection_name)\n",
                  "File \u001b[0;32m~/Documents/0. Mathieu/1. Travail/7. Open BlackBox/Mistral-AI-Paris-Hackathon-The-Belgians/OpenRAG/src/openrag/vectordb/milvus_adapter.py:11\u001b[0m, in \u001b[0;36minit_milvus_connection\u001b[0;34m(alias)\u001b[0m\n\u001b[1;32m      4\u001b[0m \u001b[38;5;28;01mdef\u001b[39;00m \u001b[38;5;21minit_milvus_connection\u001b[39m(alias\u001b[38;5;241m=\u001b[39m\u001b[38;5;124m\"\u001b[39m\u001b[38;5;124mdefault\u001b[39m\u001b[38;5;124m\"\u001b[39m):\n\u001b[1;32m      5\u001b[0m \u001b[38;5;250m    \u001b[39m\u001b[38;5;124;03m\"\"\"\u001b[39;00m\n\u001b[1;32m      6\u001b[0m \u001b[38;5;124;03m    Initialize a connection to Milvus.\u001b[39;00m\n\u001b[1;32m      7\u001b[0m \n\u001b[1;32m      8\u001b[0m \u001b[38;5;124;03m    Returns:\u001b[39;00m\n\u001b[1;32m      9\u001b[0m \u001b[38;5;124;03m        None\u001b[39;00m\n\u001b[1;32m     10\u001b[0m \u001b[38;5;124;03m    \"\"\"\u001b[39;00m\n\u001b[0;32m---> 11\u001b[0m     connections\u001b[38;5;241m.\u001b[39mconnect(host\u001b[38;5;241m=\u001b[39m\u001b[43mos\u001b[49m\u001b[38;5;241;43m.\u001b[39;49m\u001b[43menviron\u001b[49m\u001b[43m[\u001b[49m\u001b[38;5;124;43m\"\u001b[39;49m\u001b[38;5;124;43mMILVUS_HOST\u001b[39;49m\u001b[38;5;124;43m\"\u001b[39;49m\u001b[43m]\u001b[49m, port\u001b[38;5;241m=\u001b[39mos\u001b[38;5;241m.\u001b[39menviron[\u001b[38;5;124m\"\u001b[39m\u001b[38;5;124mMILVUS_PORT\u001b[39m\u001b[38;5;124m\"\u001b[39m], alias\u001b[38;5;241m=\u001b[39malias)\n",
                  "File \u001b[0;32m/Library/Developer/CommandLineTools/Library/Frameworks/Python3.framework/Versions/3.9/lib/python3.9/os.py:679\u001b[0m, in \u001b[0;36m_Environ.__getitem__\u001b[0;34m(self, key)\u001b[0m\n\u001b[1;32m    676\u001b[0m     value \u001b[38;5;241m=\u001b[39m \u001b[38;5;28mself\u001b[39m\u001b[38;5;241m.\u001b[39m_data[\u001b[38;5;28mself\u001b[39m\u001b[38;5;241m.\u001b[39mencodekey(key)]\n\u001b[1;32m    677\u001b[0m \u001b[38;5;28;01mexcept\u001b[39;00m \u001b[38;5;167;01mKeyError\u001b[39;00m:\n\u001b[1;32m    678\u001b[0m     \u001b[38;5;66;03m# raise KeyError with the original key value\u001b[39;00m\n\u001b[0;32m--> 679\u001b[0m     \u001b[38;5;28;01mraise\u001b[39;00m \u001b[38;5;167;01mKeyError\u001b[39;00m(key) \u001b[38;5;28;01mfrom\u001b[39;00m \u001b[38;5;28;01mNone\u001b[39;00m\n\u001b[1;32m    680\u001b[0m \u001b[38;5;28;01mreturn\u001b[39;00m \u001b[38;5;28mself\u001b[39m\u001b[38;5;241m.\u001b[39mdecodevalue(value)\n",
                  "\u001b[0;31mKeyError\u001b[0m: 'MILVUS_HOST'"
               ]
            }
         ],
         "source": [
            "load_dotenv()  # take environment variables from .env.\n",
            "\n",
            "news_agent(\"test\")"
         ]
      }
   ],
   "metadata": {
      "kernelspec": {
         "display_name": "Python 3",
         "language": "python",
         "name": "python3"
      },
      "language_info": {
         "codemirror_mode": {
            "name": "ipython",
            "version": 3
         },
         "file_extension": ".py",
         "mimetype": "text/x-python",
         "name": "python",
         "nbconvert_exporter": "python",
         "pygments_lexer": "ipython3",
         "version": "3.9.6"
      }
   },
   "nbformat": 4,
   "nbformat_minor": 2
}
