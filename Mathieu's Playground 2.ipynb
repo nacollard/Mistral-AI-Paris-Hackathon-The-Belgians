{
 "cells": [
  {
   "cell_type": "code",
   "execution_count": 2,
   "metadata": {},
   "outputs": [
    {
     "name": "stderr",
     "output_type": "stream",
     "text": [
      "/Users/mathieulouis/Library/Python/3.9/lib/python/site-packages/urllib3/__init__.py:34: NotOpenSSLWarning: urllib3 v2.0 only supports OpenSSL 1.1.1+, currently the 'ssl' module is compiled with 'LibreSSL 2.8.3'. See: https://github.com/urllib3/urllib3/issues/3020\n",
      "  warnings.warn(\n"
     ]
    }
   ],
   "source": [
    "import requests"
   ]
  },
  {
   "cell_type": "code",
   "execution_count": 3,
   "metadata": {},
   "outputs": [],
   "source": [
    "response = requests.get('https://raw.githubusercontent.com/run-llama/llama_index/main/docs/docs/examples/data/paul_graham/paul_graham_essay.txt')\n",
    "text = response.text\n",
    "\n",
    "\n",
    "#print(text[:1000])\n",
    "\n",
    "link1 = 'https://ws.vlpar.be:443/e/opendata/verg/volledig/zoek/datums/2021-10-01/2021-10-31'\n",
    "link2 = 'https://ws.vlpar.be:443/e/opendata/verg/zoek?year=2024&month=4'\n",
    "link3 = 'https://ws.vlpar.be:443/e/opendata/verg/1/hand?idPrsHighlight=0'\n",
    "link4 = 'https://ws.vlpar.be:443/e/opendata/comm/legislatuur?legislatuur=2009-2014'"
   ]
  },
  {
   "cell_type": "code",
   "execution_count": 4,
   "metadata": {},
   "outputs": [
    {
     "name": "stdout",
     "output_type": "stream",
     "text": [
      "{\"disclaimer\":\"\",\"items\":[{\"commissie\":{\"afkorting\":\"BIN\",\"datumtot\":\"2014-05-24T00:00:59+0200\",\"datumvan\":\"2009-09-28T00:00:00+0200\",\"id\":560540,\"link\":[{\"href\":\"https://ws.vlpar.be/e/opendata/comm/560540{?datum}\",\"rel\":\"self\"}],\"titel\":\"Commissie voor Bestuurszaken, Binnenlands Bestuur, Decreetsevaluatie, Inburgering en Toerisme\"}},{\"commissie\":{\"afkorting\":\"BUI\",\"datumtot\":\"2014-05-24T00:00:59+0200\",\"datumvan\":\"2009-09-28T00:00:00+0200\",\"id\":560541,\"link\":[{\"href\":\"https://ws.vlpar.be/e/opendata/comm/560541{?datum}\",\"rel\":\"self\"}],\"titel\":\"Commissie voor Buitenlands Beleid, Europese Aangelegenheden en Internationale Samenwerking\"}},{\"commissie\":{\"afkorting\":\"ECO\",\"datumtot\":\"2014-05-24T00:00:59+0200\",\"datumvan\":\"2009-09-28T00:00:00+0200\",\"id\":560542,\"link\":[{\"href\":\"https://ws.vlpar.be/e/opendata/comm/560542{?datum}\",\"rel\":\"self\"}],\"titel\":\"Commissie voor Economie, Economisch Overheidsinstrumentarium, Innovatie, Wetenschapsbeleid, Werk en Sociale Economie\"}},{\"commissie\":{\"afkorting\":\"LEE\",\"datumtot\":\"2014-05-24T00:00:59+0200\",\"datumvan\":\"2009-09-28T00:00:00+0200\",\"id\":560544,\"link\":[{\"href\":\"https://ws.vlpar.be/e/opendata/comm/560544{?datum}\",\"rel\":\"self\"}],\"titel\":\"Commissie voor Leefmilieu, Natuur, Ruimtelijke Ordening en Onroerend Erfgoed\"}},{\"commissie\":{\"afkorting\":\"OND\",\"datumtot\":\"2014-05-24T00:00:59+0200\",\"datumvan\":\"2009-09-28T00:00:00+0200\",\"id\":560545,\"link\":[{\"href\":\"https://ws.vlpar.be/e/opendata/comm/560545{?datum}\",\"rel\":\"self\"}],\"titel\":\"Commissie voor Onderwijs en Gelijke Kansen\"}},{\"commissie\":{\"afkorting\":\"WEL\",\"datumtot\":\"2014-05-24T00:00:59+0200\",\"datumvan\":\"2009-09-28T00:00:00+0200\",\"id\":560547,\"link\":[{\"href\":\"https://ws.vlpar.be/e/opendata/comm/560547{?datum}\",\"rel\":\"self\"}],\"titel\":\"Commissie voor Welzijn, Volksgezondheid, Gezin en Armoedebeleid\"}},{\"commissie\":{\"afkorting\":\"WON\",\"datumtot\":\"2014-05-24T00:00:59+0200\",\"datumvan\":\"2009-09-28T00:00:00+0200\",\"id\":560548,\"link\":[{\"href\":\"https://ws.vlpar.be/e/opendata/comm/560548{?datum}\",\"rel\":\"self\"}],\"titel\":\"Commissie voor Woonbeleid, Stedelijk Beleid en Energie\"}},{\"commissie\":{\"afkorting\":\"FIN\",\"datumtot\":\"2014-05-24T00:00:59+0200\",\"datumvan\":\"2009-09-28T00:00:00+0200\",\"id\":1053485,\"link\":[{\"href\":\"https://ws.vlpar.be/e/opendata/comm/1053485{?datum}\",\"rel\":\"self\"}],\"titel\":\"Commissie voor Algemeen Beleid, Financiën en Begroting\"}},{\"commissie\":{\"afkorting\":\"BRU\",\"datumtot\":\"2014-05-24T00:00:59+0200\",\"datumvan\":\"2009-09-28T00:00:00+0200\",\"id\":1053490,\"link\":[{\"href\":\"https://ws.vlpar.be/e/opendata/comm/1053490{?datum}\",\"rel\":\"self\"}],\"titel\":\"Commissie voor Brussel en de Vlaamse Rand\"}},{\"commissie\":{\"afkorting\":\"CUL\",\"datumtot\":\"2014-05-24T00:00:59+0200\",\"datumvan\":\"2009-09-28T00:00:00+0200\",\"id\":1053502,\"link\":[{\"href\":\"https://ws.vlpar.be/e/opendata/comm/1053502{?datum}\",\"rel\":\"self\"}],\"titel\":\"Commissie voor Cultuur, Jeugd, Sport en Media\"}},{\"commissie\":{\"afkorting\":\"LAN\",\"datumtot\":\"2014-05-24T00:00:59+0200\",\"datumvan\":\"2009-09-28T00:00:00+0200\",\"id\":560543,\"link\":[{\"href\":\"https://ws.vlpar.be/e/opendata/comm/560543{?datum}\",\"rel\":\"self\"}],\"titel\":\"Commissie voor Landbouw, Visserij en Plattelandsbeleid\"}},{\"commissie\":{\"afkorting\":\"OPE\",\"datumtot\":\"2014-05-24T00:00:59+0200\",\"datumvan\":\"2009-09-28T00:00:00+0200\",\"id\":560546,\"link\":[{\"href\":\"https://ws.vlpar.be/e/opendata/comm/560546{?datum}\",\"rel\":\"self\"}],\"titel\":\"Commissie voor Mobiliteit en Openbare Werken\"}},{\"commissie\":{\"afkorting\":\"VMBI\",\"datumtot\":\"2014-05-24T00:00:59+0200\",\"datumvan\":\"2010-11-22T00:00:00+0100\",\"id\":609641,\"link\":[{\"href\":\"https://ws.vlpar.be/e/opendata/comm/609641{?datum}\",\"rel\":\"self\"}],\"titel\":\"Opvolgingscommissie Versnelling Maatschappelijk Belangrijke Investeringsprojecten\"}},{\"commissie\":{\"afkorting\":\"REG\",\"datumtot\":\"2014-05-24T00:00:59+0200\",\"datumvan\":\"2009-09-28T00:00:00+0200\",\"id\":1053531,\"link\":[{\"href\":\"https://ws.vlpar.be/e/opendata/comm/1053531{?datum}\",\"rel\":\"self\"}],\"titel\":\"Commissie voor Reglement en Samenwerking\"}},{\"commissie\":{\"afkorting\":\"DEO\",\"datumtot\":\"2014-05-24T00:00:59+0200\",\"datumvan\":\"2009-09-28T00:00:00+0200\",\"id\":1053567,\"link\":[{\"href\":\"https://ws.vlpar.be/e/opendata/comm/1053567{?datum}\",\"rel\":\"self\"}],\"titel\":\"Deontologische Commissie\"}},{\"commissie\":{\"afkorting\":\"MED\",\"datumtot\":\"2014-05-24T00:00:59+0200\",\"datumvan\":\"2009-09-28T00:00:00+0200\",\"id\":1053563,\"link\":[{\"href\":\"https://ws.vlpar.be/e/opendata/comm/1053563{?datum}\",\"rel\":\"self\"}],\"titel\":\"Controlecommissie voor Regeringsmededelingen\"}},{\"commissie\":{\"afkorting\":\"UIT\",\"datumtot\":\"2014-05-24T00:00:59+0200\",\"datumvan\":\"2009-09-28T00:00:00+0200\",\"id\":1053572,\"link\":[{\"href\":\"https://ws.vlpar.be/e/opendata/comm/1053572{?datum}\",\"rel\":\"self\"}],\"titel\":\"Vlaamse Controlecommissie voor de Verkiezingsuitgaven\"}},{\"commissie\":{\"afkorting\":\"VOVM\",\"datumtot\":\"2014-05-24T00:00:59+0200\",\"datumvan\":\"2009-09-28T00:00:00+0200\",\"id\":1053574,\"link\":[{\"href\":\"https://ws.vlpar.be/e/opendata/comm/1053574{?datum}\",\"rel\":\"self\"}],\"titel\":\"Vlaamse Opvolgingscommissie voor de Vermogens- en Mandatenaangifte\"}},{\"commissie\":{\"afkorting\":\"VER\",\"datumtot\":\"2014-05-24T00:00:59+0200\",\"datumvan\":\"2009-09-28T00:00:00+0200\",\"id\":1053554,\"link\":[{\"href\":\"https://ws.vlpar.be/e/opendata/comm/1053554{?datum}\",\"rel\":\"self\"}],\"titel\":\"Commissie voor de Vervolgingen\"}},{\"commissie\":{\"afkorting\":\"VMBI\",\"datumtot\":\"2010-03-03T00:00:59+0100\",\"datumvan\":\"2009-11-25T00:00:00+0100\",\"id\":567302,\"link\":[{\"href\":\"https://ws.vlpar.be/e/opendata/comm/567302{?datum}\",\"rel\":\"self\"}],\"titel\":\"Commissie ad hoc Versnelling Maatschappelijk Belangrijke Investeringsprojecten\"}},{\"commissie\":{\"afkorting\":\"HO\",\"datumtot\":\"2010-07-08T00:00:59+0200\",\"datumvan\":\"2010-02-24T00:00:00+0100\",\"id\":579242,\"link\":[{\"href\":\"https://ws.vlpar.be/e/opendata/comm/579242{?datum}\",\"rel\":\"self\"}],\"titel\":\"Commissie ad hoc Hoger Onderwijs\"}},{\"commissie\":{\"afkorting\":\"JEU\",\"datumtot\":\"2011-07-05T00:00:59+0200\",\"datumvan\":\"2010-07-08T00:00:00+0200\",\"id\":598974,\"link\":[{\"href\":\"https://ws.vlpar.be/e/opendata/comm/598974{?datum}\",\"rel\":\"self\"}],\"titel\":\"Commissie ad hoc Jeugdzorg\"}},{\"commissie\":{\"afkorting\":\"ADHOC\",\"datumtot\":\"2009-09-27T00:00:59+0200\",\"datumvan\":\"2009-07-15T00:00:00+0200\",\"id\":559859,\"link\":[{\"href\":\"https://ws.vlpar.be/e/opendata/comm/559859{?datum}\",\"rel\":\"self\"}],\"titel\":\"Commissie ad hoc\"}},{\"commissie\":{\"afkorting\":\"IPC\",\"datumtot\":\"2014-05-24T00:00:59+0200\",\"datumvan\":\"2009-09-28T00:00:00+0200\",\"id\":1273488,\"link\":[{\"href\":\"https://ws.vlpar.be/e/opendata/comm/1273488{?datum}\",\"rel\":\"self\"}],\"titel\":\"Interparlementaire Commissie van de Nederlandse Taalunie\"}}]}\n",
      "2\n",
      "[{'commissie': {'afkorting': 'BIN', 'datumtot': '2014-05-24T00:00:59+0200', 'datumvan': '2009-09-28T00:00:00+0200', 'id': 560540, 'link': [{'href': 'https://ws.vlpar.be/e/opendata/comm/560540{?datum}', 'rel': 'self'}], 'titel': 'Commissie voor Bestuurszaken, Binnenlands Bestuur, Decreetsevaluatie, Inburgering en Toerisme'}}, {'commissie': {'afkorting': 'BUI', 'datumtot': '2014-05-24T00:00:59+0200', 'datumvan': '2009-09-28T00:00:00+0200', 'id': 560541, 'link': [{'href': 'https://ws.vlpar.be/e/opendata/comm/560541{?datum}', 'rel': 'self'}], 'titel': 'Commissie voor Buitenlands Beleid, Europese Aangelegenheden en Internationale Samenwerking'}}, {'commissie': {'afkorting': 'ECO', 'datumtot': '2014-05-24T00:00:59+0200', 'datumvan': '2009-09-28T00:00:00+0200', 'id': 560542, 'link': [{'href': 'https://ws.vlpar.be/e/opendata/comm/560542{?datum}', 'rel': 'self'}], 'titel': 'Commissie voor Economie, Economisch Overheidsinstrumentarium, Innovatie, Wetenschapsbeleid, Werk en Sociale Economie'}}, {'commissie': {'afkorting': 'LEE', 'datumtot': '2014-05-24T00:00:59+0200', 'datumvan': '2009-09-28T00:00:00+0200', 'id': 560544, 'link': [{'href': 'https://ws.vlpar.be/e/opendata/comm/560544{?datum}', 'rel': 'self'}], 'titel': 'Commissie voor Leefmilieu, Natuur, Ruimtelijke Ordening en Onroerend Erfgoed'}}, {'commissie': {'afkorting': 'OND', 'datumtot': '2014-05-24T00:00:59+0200', 'datumvan': '2009-09-28T00:00:00+0200', 'id': 560545, 'link': [{'href': 'https://ws.vlpar.be/e/opendata/comm/560545{?datum}', 'rel': 'self'}], 'titel': 'Commissie voor Onderwijs en Gelijke Kansen'}}, {'commissie': {'afkorting': 'WEL', 'datumtot': '2014-05-24T00:00:59+0200', 'datumvan': '2009-09-28T00:00:00+0200', 'id': 560547, 'link': [{'href': 'https://ws.vlpar.be/e/opendata/comm/560547{?datum}', 'rel': 'self'}], 'titel': 'Commissie voor Welzijn, Volksgezondheid, Gezin en Armoedebeleid'}}, {'commissie': {'afkorting': 'WON', 'datumtot': '2014-05-24T00:00:59+0200', 'datumvan': '2009-09-28T00:00:00+0200', 'id': 560548, 'link': [{'href': 'https://ws.vlpar.be/e/opendata/comm/560548{?datum}', 'rel': 'self'}], 'titel': 'Commissie voor Woonbeleid, Stedelijk Beleid en Energie'}}, {'commissie': {'afkorting': 'FIN', 'datumtot': '2014-05-24T00:00:59+0200', 'datumvan': '2009-09-28T00:00:00+0200', 'id': 1053485, 'link': [{'href': 'https://ws.vlpar.be/e/opendata/comm/1053485{?datum}', 'rel': 'self'}], 'titel': 'Commissie voor Algemeen Beleid, Financiën en Begroting'}}, {'commissie': {'afkorting': 'BRU', 'datumtot': '2014-05-24T00:00:59+0200', 'datumvan': '2009-09-28T00:00:00+0200', 'id': 1053490, 'link': [{'href': 'https://ws.vlpar.be/e/opendata/comm/1053490{?datum}', 'rel': 'self'}], 'titel': 'Commissie voor Brussel en de Vlaamse Rand'}}, {'commissie': {'afkorting': 'CUL', 'datumtot': '2014-05-24T00:00:59+0200', 'datumvan': '2009-09-28T00:00:00+0200', 'id': 1053502, 'link': [{'href': 'https://ws.vlpar.be/e/opendata/comm/1053502{?datum}', 'rel': 'self'}], 'titel': 'Commissie voor Cultuur, Jeugd, Sport en Media'}}, {'commissie': {'afkorting': 'LAN', 'datumtot': '2014-05-24T00:00:59+0200', 'datumvan': '2009-09-28T00:00:00+0200', 'id': 560543, 'link': [{'href': 'https://ws.vlpar.be/e/opendata/comm/560543{?datum}', 'rel': 'self'}], 'titel': 'Commissie voor Landbouw, Visserij en Plattelandsbeleid'}}, {'commissie': {'afkorting': 'OPE', 'datumtot': '2014-05-24T00:00:59+0200', 'datumvan': '2009-09-28T00:00:00+0200', 'id': 560546, 'link': [{'href': 'https://ws.vlpar.be/e/opendata/comm/560546{?datum}', 'rel': 'self'}], 'titel': 'Commissie voor Mobiliteit en Openbare Werken'}}, {'commissie': {'afkorting': 'VMBI', 'datumtot': '2014-05-24T00:00:59+0200', 'datumvan': '2010-11-22T00:00:00+0100', 'id': 609641, 'link': [{'href': 'https://ws.vlpar.be/e/opendata/comm/609641{?datum}', 'rel': 'self'}], 'titel': 'Opvolgingscommissie Versnelling Maatschappelijk Belangrijke Investeringsprojecten'}}, {'commissie': {'afkorting': 'REG', 'datumtot': '2014-05-24T00:00:59+0200', 'datumvan': '2009-09-28T00:00:00+0200', 'id': 1053531, 'link': [{'href': 'https://ws.vlpar.be/e/opendata/comm/1053531{?datum}', 'rel': 'self'}], 'titel': 'Commissie voor Reglement en Samenwerking'}}, {'commissie': {'afkorting': 'DEO', 'datumtot': '2014-05-24T00:00:59+0200', 'datumvan': '2009-09-28T00:00:00+0200', 'id': 1053567, 'link': [{'href': 'https://ws.vlpar.be/e/opendata/comm/1053567{?datum}', 'rel': 'self'}], 'titel': 'Deontologische Commissie'}}, {'commissie': {'afkorting': 'MED', 'datumtot': '2014-05-24T00:00:59+0200', 'datumvan': '2009-09-28T00:00:00+0200', 'id': 1053563, 'link': [{'href': 'https://ws.vlpar.be/e/opendata/comm/1053563{?datum}', 'rel': 'self'}], 'titel': 'Controlecommissie voor Regeringsmededelingen'}}, {'commissie': {'afkorting': 'UIT', 'datumtot': '2014-05-24T00:00:59+0200', 'datumvan': '2009-09-28T00:00:00+0200', 'id': 1053572, 'link': [{'href': 'https://ws.vlpar.be/e/opendata/comm/1053572{?datum}', 'rel': 'self'}], 'titel': 'Vlaamse Controlecommissie voor de Verkiezingsuitgaven'}}, {'commissie': {'afkorting': 'VOVM', 'datumtot': '2014-05-24T00:00:59+0200', 'datumvan': '2009-09-28T00:00:00+0200', 'id': 1053574, 'link': [{'href': 'https://ws.vlpar.be/e/opendata/comm/1053574{?datum}', 'rel': 'self'}], 'titel': 'Vlaamse Opvolgingscommissie voor de Vermogens- en Mandatenaangifte'}}, {'commissie': {'afkorting': 'VER', 'datumtot': '2014-05-24T00:00:59+0200', 'datumvan': '2009-09-28T00:00:00+0200', 'id': 1053554, 'link': [{'href': 'https://ws.vlpar.be/e/opendata/comm/1053554{?datum}', 'rel': 'self'}], 'titel': 'Commissie voor de Vervolgingen'}}, {'commissie': {'afkorting': 'VMBI', 'datumtot': '2010-03-03T00:00:59+0100', 'datumvan': '2009-11-25T00:00:00+0100', 'id': 567302, 'link': [{'href': 'https://ws.vlpar.be/e/opendata/comm/567302{?datum}', 'rel': 'self'}], 'titel': 'Commissie ad hoc Versnelling Maatschappelijk Belangrijke Investeringsprojecten'}}, {'commissie': {'afkorting': 'HO', 'datumtot': '2010-07-08T00:00:59+0200', 'datumvan': '2010-02-24T00:00:00+0100', 'id': 579242, 'link': [{'href': 'https://ws.vlpar.be/e/opendata/comm/579242{?datum}', 'rel': 'self'}], 'titel': 'Commissie ad hoc Hoger Onderwijs'}}, {'commissie': {'afkorting': 'JEU', 'datumtot': '2011-07-05T00:00:59+0200', 'datumvan': '2010-07-08T00:00:00+0200', 'id': 598974, 'link': [{'href': 'https://ws.vlpar.be/e/opendata/comm/598974{?datum}', 'rel': 'self'}], 'titel': 'Commissie ad hoc Jeugdzorg'}}, {'commissie': {'afkorting': 'ADHOC', 'datumtot': '2009-09-27T00:00:59+0200', 'datumvan': '2009-07-15T00:00:00+0200', 'id': 559859, 'link': [{'href': 'https://ws.vlpar.be/e/opendata/comm/559859{?datum}', 'rel': 'self'}], 'titel': 'Commissie ad hoc'}}, {'commissie': {'afkorting': 'IPC', 'datumtot': '2014-05-24T00:00:59+0200', 'datumvan': '2009-09-28T00:00:00+0200', 'id': 1273488, 'link': [{'href': 'https://ws.vlpar.be/e/opendata/comm/1273488{?datum}', 'rel': 'self'}], 'titel': 'Interparlementaire Commissie van de Nederlandse Taalunie'}}]\n",
      "24\n"
     ]
    }
   ],
   "source": [
    "\n",
    "response2 = requests.get(link4)\n",
    "print(response2.text)\n",
    "print(len(response2.json()))\n",
    "print(response2.json()['items'])\n",
    "print(len(response2.json()['items']))\n",
    "#print(response2.json()) "
   ]
  },
  {
   "cell_type": "code",
   "execution_count": 5,
   "metadata": {},
   "outputs": [
    {
     "name": "stdout",
     "output_type": "stream",
     "text": [
      "Nieuwe commissie:\n",
      "BIN\n"
     ]
    },
    {
     "ename": "KeyError",
     "evalue": "'titel'",
     "output_type": "error",
     "traceback": [
      "\u001b[0;31m---------------------------------------------------------------------------\u001b[0m",
      "\u001b[0;31mKeyError\u001b[0m                                  Traceback (most recent call last)",
      "Cell \u001b[0;32mIn[5], line 4\u001b[0m\n\u001b[1;32m      2\u001b[0m \u001b[38;5;28mprint\u001b[39m(\u001b[38;5;124m\"\u001b[39m\u001b[38;5;124mNieuwe commissie:\u001b[39m\u001b[38;5;124m\"\u001b[39m)\n\u001b[1;32m      3\u001b[0m \u001b[38;5;28mprint\u001b[39m(commissie[\u001b[38;5;124m'\u001b[39m\u001b[38;5;124mcommissie\u001b[39m\u001b[38;5;124m'\u001b[39m][\u001b[38;5;124m'\u001b[39m\u001b[38;5;124mafkorting\u001b[39m\u001b[38;5;124m'\u001b[39m])\n\u001b[0;32m----> 4\u001b[0m \u001b[38;5;28mprint\u001b[39m(\u001b[43mcommissie\u001b[49m\u001b[43m[\u001b[49m\u001b[38;5;124;43m'\u001b[39;49m\u001b[38;5;124;43mtitel\u001b[39;49m\u001b[38;5;124;43m'\u001b[39;49m\u001b[43m]\u001b[49m)\n\u001b[1;32m      5\u001b[0m \u001b[38;5;28mprint\u001b[39m(commissie[\u001b[38;5;124m'\u001b[39m\u001b[38;5;124mcommissie\u001b[39m\u001b[38;5;124m'\u001b[39m][\u001b[38;5;124m'\u001b[39m\u001b[38;5;124mid\u001b[39m\u001b[38;5;124m'\u001b[39m])\n\u001b[1;32m      6\u001b[0m \u001b[38;5;28mprint\u001b[39m(\u001b[38;5;124m\"\u001b[39m\u001b[38;5;124m#################\u001b[39m\u001b[38;5;124m\"\u001b[39m)\n",
      "\u001b[0;31mKeyError\u001b[0m: 'titel'"
     ]
    }
   ],
   "source": [
    "for commissie in response2.json()['items']:\n",
    "    print(\"Nieuwe commissie:\")\n",
    "    print(commissie['commissie']['afkorting'])\n",
    "    print(commissie['commissie']['titel'])\n",
    "    print(commissie['commissie']['id'])\n",
    "    print(\"#################\")"
   ]
  }
 ],
 "metadata": {
  "kernelspec": {
   "display_name": "Python 3",
   "language": "python",
   "name": "python3"
  },
  "language_info": {
   "codemirror_mode": {
    "name": "ipython",
    "version": 3
   },
   "file_extension": ".py",
   "mimetype": "text/x-python",
   "name": "python",
   "nbconvert_exporter": "python",
   "pygments_lexer": "ipython3",
   "version": "3.9.6"
  }
 },
 "nbformat": 4,
 "nbformat_minor": 2
}
